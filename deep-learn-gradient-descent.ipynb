{
 "cells": [
  {
   "cell_type": "code",
   "execution_count": 1,
   "metadata": {},
   "outputs": [],
   "source": [
    "import warnings\n",
    "warnings.filterwarnings(\"ignore\")\n",
    "\n",
    "from tensorflow.keras.datasets import mnist\n",
    "from tensorflow.keras.models import Sequential \n",
    "from tensorflow.keras.layers import Dense\n",
    "from tensorflow.keras.utils import to_categorical\n",
    "\n",
    "from tensorflow.keras.optimizers import SGD"
   ]
  },
  {
   "cell_type": "code",
   "execution_count": 2,
   "metadata": {},
   "outputs": [],
   "source": [
    "(X_train, y_train), (X_test, y_test) = mnist.load_data()\n",
    "\n",
    "input_dim = 784  # 28*28\n",
    "output_dim = nb_classes = 10\n",
    "nb_epoch = 20\n",
    "\n",
    "X_train = X_train.reshape(60000, input_dim)\n",
    "X_test = X_test.reshape(10000, input_dim)\n",
    "X_train = X_train.astype('float32')\n",
    "X_test = X_test.astype('float32')\n",
    "X_train /= 255\n",
    "X_test /= 255"
   ]
  },
  {
   "cell_type": "code",
   "execution_count": 3,
   "metadata": {},
   "outputs": [],
   "source": [
    "Y_train = to_categorical(y_train, nb_classes)\n",
    "Y_test = to_categorical(y_test, nb_classes)"
   ]
  },
  {
   "cell_type": "markdown",
   "metadata": {},
   "source": [
    "#### 1. In this task, you'll implement several ANN models with different activation functions. Specifically, do the following:\n",
    "\n",
    "* Implement a three-layer ANN model with 128, 64, and 10 neurons in the layers. Use 8 as the mini-batch size.\n"
   ]
  },
  {
   "cell_type": "code",
   "execution_count": 4,
   "metadata": {},
   "outputs": [],
   "source": [
    "# Create the model\n",
    "model1 = Sequential()\n",
    "\n",
    "model1.add(Dense(128, input_shape=(784,), activation=\"relu\"))\n",
    "model1.add(Dense(64, activation=\"relu\"))\n",
    "model1.add(Dense(10, activation=\"softmax\"))"
   ]
  },
  {
   "cell_type": "code",
   "execution_count": 5,
   "metadata": {},
   "outputs": [
    {
     "name": "stdout",
     "output_type": "stream",
     "text": [
      "Model: \"sequential\"\n",
      "_________________________________________________________________\n",
      "Layer (type)                 Output Shape              Param #   \n",
      "=================================================================\n",
      "dense (Dense)                (None, 128)               100480    \n",
      "_________________________________________________________________\n",
      "dense_1 (Dense)              (None, 64)                8256      \n",
      "_________________________________________________________________\n",
      "dense_2 (Dense)              (None, 10)                650       \n",
      "=================================================================\n",
      "Total params: 109,386\n",
      "Trainable params: 109,386\n",
      "Non-trainable params: 0\n",
      "_________________________________________________________________\n"
     ]
    }
   ],
   "source": [
    "model1.summary()"
   ]
  },
  {
   "cell_type": "code",
   "execution_count": 7,
   "metadata": {},
   "outputs": [
    {
     "name": "stdout",
     "output_type": "stream",
     "text": [
      "Train on 60000 samples\n",
      "Epoch 1/20\n",
      "60000/60000 [==============================] - 6s 95us/sample - loss: 0.3810 - accuracy: 0.8909\n",
      "Epoch 2/20\n",
      "60000/60000 [==============================] - 5s 90us/sample - loss: 0.1801 - accuracy: 0.9472\n",
      "Epoch 3/20\n",
      "60000/60000 [==============================] - 5s 89us/sample - loss: 0.1309 - accuracy: 0.9608\n",
      "Epoch 4/20\n",
      "60000/60000 [==============================] - 5s 89us/sample - loss: 0.1025 - accuracy: 0.9703\n",
      "Epoch 5/20\n",
      "60000/60000 [==============================] - 5s 89us/sample - loss: 0.0835 - accuracy: 0.9756\n",
      "Epoch 6/20\n",
      "60000/60000 [==============================] - 6s 94us/sample - loss: 0.0703 - accuracy: 0.9798\n",
      "Epoch 7/20\n",
      "60000/60000 [==============================] - 6s 96us/sample - loss: 0.0595 - accuracy: 0.9827\n",
      "Epoch 8/20\n",
      "60000/60000 [==============================] - 6s 99us/sample - loss: 0.0516 - accuracy: 0.9850\n",
      "Epoch 9/20\n",
      "60000/60000 [==============================] - 6s 99us/sample - loss: 0.0442 - accuracy: 0.9873\n",
      "Epoch 10/20\n",
      "60000/60000 [==============================] - 6s 97us/sample - loss: 0.0386 - accuracy: 0.9887\n",
      "Epoch 11/20\n",
      "60000/60000 [==============================] - 6s 95us/sample - loss: 0.0337 - accuracy: 0.9904\n",
      "Epoch 12/20\n",
      "60000/60000 [==============================] - 6s 101us/sample - loss: 0.0286 - accuracy: 0.9924\n",
      "Epoch 13/20\n",
      "60000/60000 [==============================] - 6s 94us/sample - loss: 0.0248 - accuracy: 0.9935\n",
      "Epoch 14/20\n",
      "60000/60000 [==============================] - 5s 91us/sample - loss: 0.0222 - accuracy: 0.9941\n",
      "Epoch 15/20\n",
      "60000/60000 [==============================] - 6s 92us/sample - loss: 0.0187 - accuracy: 0.9952\n",
      "Epoch 16/20\n",
      "60000/60000 [==============================] - 6s 92us/sample - loss: 0.0159 - accuracy: 0.9965\n",
      "Epoch 17/20\n",
      "60000/60000 [==============================] - 6s 92us/sample - loss: 0.0139 - accuracy: 0.9970\n",
      "Epoch 18/20\n",
      "60000/60000 [==============================] - 6s 94us/sample - loss: 0.0116 - accuracy: 0.9977\n",
      "Epoch 19/20\n",
      "60000/60000 [==============================] - 6s 92us/sample - loss: 0.0099 - accuracy: 0.9983\n",
      "Epoch 20/20\n",
      "60000/60000 [==============================] - 6s 93us/sample - loss: 0.0087 - accuracy: 0.9985\n"
     ]
    },
    {
     "data": {
      "text/plain": [
       "<tensorflow.python.keras.callbacks.History at 0x7fadf03abd50>"
      ]
     },
     "execution_count": 7,
     "metadata": {},
     "output_type": "execute_result"
    }
   ],
   "source": [
    "# Compile the model\n",
    "model1.compile(optimizer='sgd', loss='categorical_crossentropy',\n",
    "              metrics=['accuracy'])\n",
    "# Fit the model\n",
    "model1.fit(X_train, Y_train, batch_size=8, epochs=20, verbose=1)"
   ]
  },
  {
   "cell_type": "code",
   "execution_count": 8,
   "metadata": {},
   "outputs": [
    {
     "name": "stdout",
     "output_type": "stream",
     "text": [
      "Test score: 0.07228759481011365\n",
      "Test accuracy: 0.9799\n"
     ]
    }
   ],
   "source": [
    "# Print the model results\n",
    "score = model1.evaluate(X_test, Y_test, verbose=0)\n",
    "print('Test score:', score[0])\n",
    "print('Test accuracy:', score[1])"
   ]
  },
  {
   "cell_type": "markdown",
   "metadata": {},
   "source": [
    "* Implement a three-layer ANN model with 128, 64, and 10 neurons in the layers. Use 128 as the mini-batch size."
   ]
  },
  {
   "cell_type": "code",
   "execution_count": 9,
   "metadata": {},
   "outputs": [],
   "source": [
    "# Create the model\n",
    "model2 = Sequential()\n",
    "\n",
    "model2.add(Dense(128, input_shape=(784,), activation=\"relu\"))\n",
    "model2.add(Dense(64, activation=\"relu\"))\n",
    "model2.add(Dense(10, activation=\"softmax\"))"
   ]
  },
  {
   "cell_type": "code",
   "execution_count": 10,
   "metadata": {},
   "outputs": [
    {
     "name": "stdout",
     "output_type": "stream",
     "text": [
      "Model: \"sequential_1\"\n",
      "_________________________________________________________________\n",
      "Layer (type)                 Output Shape              Param #   \n",
      "=================================================================\n",
      "dense_3 (Dense)              (None, 128)               100480    \n",
      "_________________________________________________________________\n",
      "dense_4 (Dense)              (None, 64)                8256      \n",
      "_________________________________________________________________\n",
      "dense_5 (Dense)              (None, 10)                650       \n",
      "=================================================================\n",
      "Total params: 109,386\n",
      "Trainable params: 109,386\n",
      "Non-trainable params: 0\n",
      "_________________________________________________________________\n"
     ]
    }
   ],
   "source": [
    "model2.summary()"
   ]
  },
  {
   "cell_type": "code",
   "execution_count": 11,
   "metadata": {},
   "outputs": [
    {
     "name": "stdout",
     "output_type": "stream",
     "text": [
      "Train on 60000 samples\n",
      "Epoch 1/20\n",
      "60000/60000 [==============================] - 1s 15us/sample - loss: 1.3092 - accuracy: 0.6608\n",
      "Epoch 2/20\n",
      "60000/60000 [==============================] - 1s 11us/sample - loss: 0.5137 - accuracy: 0.8657\n",
      "Epoch 3/20\n",
      "60000/60000 [==============================] - 1s 11us/sample - loss: 0.3958 - accuracy: 0.8885\n",
      "Epoch 4/20\n",
      "60000/60000 [==============================] - 1s 11us/sample - loss: 0.3495 - accuracy: 0.9000\n",
      "Epoch 5/20\n",
      "60000/60000 [==============================] - 1s 10us/sample - loss: 0.3221 - accuracy: 0.9069\n",
      "Epoch 6/20\n",
      "60000/60000 [==============================] - 1s 11us/sample - loss: 0.3021 - accuracy: 0.9135\n",
      "Epoch 7/20\n",
      "60000/60000 [==============================] - 1s 10us/sample - loss: 0.2857 - accuracy: 0.9176\n",
      "Epoch 8/20\n",
      "60000/60000 [==============================] - 1s 10us/sample - loss: 0.2722 - accuracy: 0.9220\n",
      "Epoch 9/20\n",
      "60000/60000 [==============================] - 1s 10us/sample - loss: 0.2598 - accuracy: 0.9252\n",
      "Epoch 10/20\n",
      "60000/60000 [==============================] - 1s 10us/sample - loss: 0.2489 - accuracy: 0.9290\n",
      "Epoch 11/20\n",
      "60000/60000 [==============================] - 1s 10us/sample - loss: 0.2385 - accuracy: 0.9317\n",
      "Epoch 12/20\n",
      "60000/60000 [==============================] - 1s 10us/sample - loss: 0.2291 - accuracy: 0.9350\n",
      "Epoch 13/20\n",
      "60000/60000 [==============================] - 1s 10us/sample - loss: 0.2207 - accuracy: 0.9370\n",
      "Epoch 14/20\n",
      "60000/60000 [==============================] - 1s 10us/sample - loss: 0.2126 - accuracy: 0.9399\n",
      "Epoch 15/20\n",
      "60000/60000 [==============================] - 1s 10us/sample - loss: 0.2051 - accuracy: 0.9420\n",
      "Epoch 16/20\n",
      "60000/60000 [==============================] - 1s 10us/sample - loss: 0.1981 - accuracy: 0.9441\n",
      "Epoch 17/20\n",
      "60000/60000 [==============================] - 1s 10us/sample - loss: 0.1915 - accuracy: 0.9456\n",
      "Epoch 18/20\n",
      "60000/60000 [==============================] - 1s 11us/sample - loss: 0.1854 - accuracy: 0.9477\n",
      "Epoch 19/20\n",
      "60000/60000 [==============================] - 1s 10us/sample - loss: 0.1794 - accuracy: 0.9498\n",
      "Epoch 20/20\n",
      "60000/60000 [==============================] - 1s 10us/sample - loss: 0.1740 - accuracy: 0.9507\n"
     ]
    },
    {
     "data": {
      "text/plain": [
       "<tensorflow.python.keras.callbacks.History at 0x7fae01a8de10>"
      ]
     },
     "execution_count": 11,
     "metadata": {},
     "output_type": "execute_result"
    }
   ],
   "source": [
    "# Compile the model\n",
    "model2.compile(optimizer='sgd', loss='categorical_crossentropy',\n",
    "              metrics=['accuracy'])\n",
    "# Fit the model\n",
    "model2.fit(X_train, Y_train, batch_size=128, epochs=20, verbose=1)"
   ]
  },
  {
   "cell_type": "code",
   "execution_count": 12,
   "metadata": {},
   "outputs": [
    {
     "name": "stdout",
     "output_type": "stream",
     "text": [
      "Test score: 0.1758077351436019\n",
      "Test accuracy: 0.9471\n"
     ]
    }
   ],
   "source": [
    "# Print the model results\n",
    "score = model2.evaluate(X_test, Y_test, verbose=0)\n",
    "print('Test score:', score[0])\n",
    "print('Test accuracy:', score[1])"
   ]
  },
  {
   "cell_type": "markdown",
   "metadata": {},
   "source": [
    "* Implement a three-layer ANN model with 128, 64, and 10 neurons in the layers. Use the full sample as the batch size."
   ]
  },
  {
   "cell_type": "code",
   "execution_count": 13,
   "metadata": {},
   "outputs": [],
   "source": [
    "# Create the model\n",
    "model3 = Sequential()\n",
    "\n",
    "model3.add(Dense(128, input_shape=(784,), activation=\"relu\"))\n",
    "model3.add(Dense(64, activation=\"relu\"))\n",
    "model3.add(Dense(10, activation=\"softmax\"))"
   ]
  },
  {
   "cell_type": "code",
   "execution_count": 14,
   "metadata": {},
   "outputs": [
    {
     "name": "stdout",
     "output_type": "stream",
     "text": [
      "Model: \"sequential_2\"\n",
      "_________________________________________________________________\n",
      "Layer (type)                 Output Shape              Param #   \n",
      "=================================================================\n",
      "dense_6 (Dense)              (None, 128)               100480    \n",
      "_________________________________________________________________\n",
      "dense_7 (Dense)              (None, 64)                8256      \n",
      "_________________________________________________________________\n",
      "dense_8 (Dense)              (None, 10)                650       \n",
      "=================================================================\n",
      "Total params: 109,386\n",
      "Trainable params: 109,386\n",
      "Non-trainable params: 0\n",
      "_________________________________________________________________\n"
     ]
    }
   ],
   "source": [
    "model3.summary()"
   ]
  },
  {
   "cell_type": "code",
   "execution_count": 15,
   "metadata": {},
   "outputs": [
    {
     "name": "stdout",
     "output_type": "stream",
     "text": [
      "Train on 60000 samples\n",
      "Epoch 1/20\n",
      "60000/60000 [==============================] - 1s 9us/sample - loss: 2.3197 - accuracy: 0.0888\n",
      "Epoch 2/20\n",
      "60000/60000 [==============================] - 0s 3us/sample - loss: 2.3131 - accuracy: 0.0924\n",
      "Epoch 3/20\n",
      "60000/60000 [==============================] - 0s 3us/sample - loss: 2.3065 - accuracy: 0.0965\n",
      "Epoch 4/20\n",
      "60000/60000 [==============================] - 0s 3us/sample - loss: 2.3000 - accuracy: 0.1015\n",
      "Epoch 5/20\n",
      "60000/60000 [==============================] - 0s 3us/sample - loss: 2.2935 - accuracy: 0.1066\n",
      "Epoch 6/20\n",
      "60000/60000 [==============================] - 0s 3us/sample - loss: 2.2871 - accuracy: 0.1121\n",
      "Epoch 7/20\n",
      "60000/60000 [==============================] - 0s 2us/sample - loss: 2.2808 - accuracy: 0.1187\n",
      "Epoch 8/20\n",
      "60000/60000 [==============================] - 0s 3us/sample - loss: 2.2745 - accuracy: 0.1246\n",
      "Epoch 9/20\n",
      "60000/60000 [==============================] - 0s 3us/sample - loss: 2.2682 - accuracy: 0.1319\n",
      "Epoch 10/20\n",
      "60000/60000 [==============================] - 0s 3us/sample - loss: 2.2620 - accuracy: 0.1389\n",
      "Epoch 11/20\n",
      "60000/60000 [==============================] - 0s 3us/sample - loss: 2.2558 - accuracy: 0.1468\n",
      "Epoch 12/20\n",
      "60000/60000 [==============================] - 0s 3us/sample - loss: 2.2497 - accuracy: 0.1554\n",
      "Epoch 13/20\n",
      "60000/60000 [==============================] - 0s 3us/sample - loss: 2.2436 - accuracy: 0.1630\n",
      "Epoch 14/20\n",
      "60000/60000 [==============================] - 0s 3us/sample - loss: 2.2376 - accuracy: 0.1708\n",
      "Epoch 15/20\n",
      "60000/60000 [==============================] - 0s 2us/sample - loss: 2.2316 - accuracy: 0.1783\n",
      "Epoch 16/20\n",
      "60000/60000 [==============================] - 0s 2us/sample - loss: 2.2257 - accuracy: 0.1866\n",
      "Epoch 17/20\n",
      "60000/60000 [==============================] - 0s 3us/sample - loss: 2.2197 - accuracy: 0.1945\n",
      "Epoch 18/20\n",
      "60000/60000 [==============================] - 0s 3us/sample - loss: 2.2139 - accuracy: 0.2029\n",
      "Epoch 19/20\n",
      "60000/60000 [==============================] - 0s 3us/sample - loss: 2.2080 - accuracy: 0.2103\n",
      "Epoch 20/20\n",
      "60000/60000 [==============================] - 0s 2us/sample - loss: 2.2022 - accuracy: 0.2180\n"
     ]
    },
    {
     "data": {
      "text/plain": [
       "<tensorflow.python.keras.callbacks.History at 0x7fae01c388d0>"
      ]
     },
     "execution_count": 15,
     "metadata": {},
     "output_type": "execute_result"
    }
   ],
   "source": [
    "# Compile the model\n",
    "model3.compile(optimizer='sgd', loss='categorical_crossentropy',\n",
    "              metrics=['accuracy'])\n",
    "# Fit the model\n",
    "model3.fit(X_train, Y_train, batch_size=len(X_train), epochs=20, verbose=1)"
   ]
  },
  {
   "cell_type": "code",
   "execution_count": 16,
   "metadata": {},
   "outputs": [
    {
     "name": "stdout",
     "output_type": "stream",
     "text": [
      "Test score: 2.196199956893921\n",
      "Test accuracy: 0.2259\n"
     ]
    }
   ],
   "source": [
    "# Print the model results\n",
    "score = model3.evaluate(X_test, Y_test, verbose=0)\n",
    "print('Test score:', score[0])\n",
    "print('Test accuracy:', score[1])"
   ]
  },
  {
   "cell_type": "markdown",
   "metadata": {},
   "source": [
    "#### Compare the results of each model. Which activation function performed best?\n",
    "\n",
    "* The batch size of 8 performed the best, so smaller batch sizes seem to perform the best\n",
    "* The run time is longer for the smaller batch sizes\n"
   ]
  },
  {
   "cell_type": "markdown",
   "metadata": {},
   "source": [
    "#### 2. In this task, you'll implement several ANN models with different learning rates for the stochastic gradient descent. In all of the models below, use 128 as your mini batch size.\n",
    "\n",
    "* Implement a three-layer ANN model with 128, 64, and 10 neurons in the layers. Use 0.01 as the learning rate."
   ]
  },
  {
   "cell_type": "code",
   "execution_count": 19,
   "metadata": {},
   "outputs": [],
   "source": [
    "# Create the model\n",
    "model4 = Sequential()\n",
    "\n",
    "model4.add(Dense(128, input_shape=(784,), activation=\"relu\"))\n",
    "model4.add(Dense(64, activation=\"relu\"))\n",
    "model4.add(Dense(10, activation=\"softmax\"))"
   ]
  },
  {
   "cell_type": "code",
   "execution_count": 20,
   "metadata": {},
   "outputs": [
    {
     "name": "stdout",
     "output_type": "stream",
     "text": [
      "Model: \"sequential_3\"\n",
      "_________________________________________________________________\n",
      "Layer (type)                 Output Shape              Param #   \n",
      "=================================================================\n",
      "dense_9 (Dense)              (None, 128)               100480    \n",
      "_________________________________________________________________\n",
      "dense_10 (Dense)             (None, 64)                8256      \n",
      "_________________________________________________________________\n",
      "dense_11 (Dense)             (None, 10)                650       \n",
      "=================================================================\n",
      "Total params: 109,386\n",
      "Trainable params: 109,386\n",
      "Non-trainable params: 0\n",
      "_________________________________________________________________\n"
     ]
    }
   ],
   "source": [
    "model4.summary()"
   ]
  },
  {
   "cell_type": "code",
   "execution_count": 21,
   "metadata": {},
   "outputs": [
    {
     "name": "stdout",
     "output_type": "stream",
     "text": [
      "Train on 60000 samples\n",
      "Epoch 1/20\n",
      "60000/60000 [==============================] - 1s 14us/sample - loss: 1.2899 - accuracy: 0.6541\n",
      "Epoch 2/20\n",
      "60000/60000 [==============================] - 1s 12us/sample - loss: 0.5214 - accuracy: 0.8642\n",
      "Epoch 3/20\n",
      "60000/60000 [==============================] - 1s 11us/sample - loss: 0.4027 - accuracy: 0.8877\n",
      "Epoch 4/20\n",
      "60000/60000 [==============================] - 1s 11us/sample - loss: 0.3555 - accuracy: 0.8992\n",
      "Epoch 5/20\n",
      "60000/60000 [==============================] - 1s 11us/sample - loss: 0.3272 - accuracy: 0.9061\n",
      "Epoch 6/20\n",
      "60000/60000 [==============================] - 1s 10us/sample - loss: 0.3071 - accuracy: 0.9118\n",
      "Epoch 7/20\n",
      "60000/60000 [==============================] - 1s 12us/sample - loss: 0.2909 - accuracy: 0.9159\n",
      "Epoch 8/20\n",
      "60000/60000 [==============================] - 1s 10us/sample - loss: 0.2767 - accuracy: 0.9202\n",
      "Epoch 9/20\n",
      "60000/60000 [==============================] - 1s 10us/sample - loss: 0.2645 - accuracy: 0.9237\n",
      "Epoch 10/20\n",
      "60000/60000 [==============================] - 1s 10us/sample - loss: 0.2535 - accuracy: 0.9272\n",
      "Epoch 11/20\n",
      "60000/60000 [==============================] - 1s 10us/sample - loss: 0.2437 - accuracy: 0.9305\n",
      "Epoch 12/20\n",
      "60000/60000 [==============================] - 1s 10us/sample - loss: 0.2346 - accuracy: 0.9325\n",
      "Epoch 13/20\n",
      "60000/60000 [==============================] - 1s 10us/sample - loss: 0.2261 - accuracy: 0.9353\n",
      "Epoch 14/20\n",
      "60000/60000 [==============================] - 1s 9us/sample - loss: 0.2181 - accuracy: 0.9379\n",
      "Epoch 15/20\n",
      "60000/60000 [==============================] - 1s 10us/sample - loss: 0.2107 - accuracy: 0.9402\n",
      "Epoch 16/20\n",
      "60000/60000 [==============================] - 1s 10us/sample - loss: 0.2039 - accuracy: 0.9421\n",
      "Epoch 17/20\n",
      "60000/60000 [==============================] - 1s 10us/sample - loss: 0.1975 - accuracy: 0.9437\n",
      "Epoch 18/20\n",
      "60000/60000 [==============================] - 1s 10us/sample - loss: 0.1914 - accuracy: 0.9458\n",
      "Epoch 19/20\n",
      "60000/60000 [==============================] - 1s 10us/sample - loss: 0.1859 - accuracy: 0.9478\n",
      "Epoch 20/20\n",
      "60000/60000 [==============================] - 1s 12us/sample - loss: 0.1804 - accuracy: 0.9489\n"
     ]
    },
    {
     "data": {
      "text/plain": [
       "<tensorflow.python.keras.callbacks.History at 0x7fadc30dc210>"
      ]
     },
     "execution_count": 21,
     "metadata": {},
     "output_type": "execute_result"
    }
   ],
   "source": [
    "# Compile the model\n",
    "optimizer = SGD(lr=0.01)\n",
    "model4.compile(optimizer=optimizer, loss='categorical_crossentropy',\n",
    "              metrics=['accuracy'])\n",
    "# Fit the model\n",
    "model4.fit(X_train, Y_train, batch_size=128, epochs=20, verbose=1)"
   ]
  },
  {
   "cell_type": "code",
   "execution_count": 22,
   "metadata": {},
   "outputs": [
    {
     "name": "stdout",
     "output_type": "stream",
     "text": [
      "Test score: 0.176625905597955\n",
      "Test accuracy: 0.9478\n"
     ]
    }
   ],
   "source": [
    "# Print the model results\n",
    "score = model4.evaluate(X_test, Y_test, verbose=0)\n",
    "print('Test score:', score[0])\n",
    "print('Test accuracy:', score[1])"
   ]
  },
  {
   "cell_type": "markdown",
   "metadata": {},
   "source": [
    "* Implement a three-layer ANN model with 128, 64, and 10 neurons in the layers. Use 100 as the learning rate."
   ]
  },
  {
   "cell_type": "code",
   "execution_count": 23,
   "metadata": {},
   "outputs": [],
   "source": [
    "# Create the model\n",
    "model5 = Sequential()\n",
    "\n",
    "model5.add(Dense(128, input_shape=(784,), activation=\"relu\"))\n",
    "model5.add(Dense(64, activation=\"relu\"))\n",
    "model5.add(Dense(10, activation=\"softmax\"))"
   ]
  },
  {
   "cell_type": "code",
   "execution_count": 24,
   "metadata": {},
   "outputs": [
    {
     "name": "stdout",
     "output_type": "stream",
     "text": [
      "Model: \"sequential_4\"\n",
      "_________________________________________________________________\n",
      "Layer (type)                 Output Shape              Param #   \n",
      "=================================================================\n",
      "dense_12 (Dense)             (None, 128)               100480    \n",
      "_________________________________________________________________\n",
      "dense_13 (Dense)             (None, 64)                8256      \n",
      "_________________________________________________________________\n",
      "dense_14 (Dense)             (None, 10)                650       \n",
      "=================================================================\n",
      "Total params: 109,386\n",
      "Trainable params: 109,386\n",
      "Non-trainable params: 0\n",
      "_________________________________________________________________\n"
     ]
    }
   ],
   "source": [
    "model5.summary()"
   ]
  },
  {
   "cell_type": "code",
   "execution_count": 25,
   "metadata": {},
   "outputs": [
    {
     "name": "stdout",
     "output_type": "stream",
     "text": [
      "Train on 60000 samples\n",
      "Epoch 1/20\n",
      "60000/60000 [==============================] - 1s 13us/sample - loss: 2201955779245168394240.0000 - accuracy: 0.0994\n",
      "Epoch 2/20\n",
      "60000/60000 [==============================] - 1s 10us/sample - loss: 40.3850 - accuracy: 0.1018\n",
      "Epoch 3/20\n",
      "60000/60000 [==============================] - 1s 11us/sample - loss: 40.3602 - accuracy: 0.09880s - loss: 40.1119 - accuracy\n",
      "Epoch 4/20\n",
      "60000/60000 [==============================] - 1s 10us/sample - loss: 40.7626 - accuracy: 0.0994\n",
      "Epoch 5/20\n",
      "60000/60000 [==============================] - 1s 11us/sample - loss: 40.5454 - accuracy: 0.1008\n",
      "Epoch 6/20\n",
      "60000/60000 [==============================] - 1s 11us/sample - loss: 40.9986 - accuracy: 0.0989\n",
      "Epoch 7/20\n",
      "60000/60000 [==============================] - 1s 11us/sample - loss: 40.2244 - accuracy: 0.1010\n",
      "Epoch 8/20\n",
      "60000/60000 [==============================] - 1s 10us/sample - loss: 40.2521 - accuracy: 0.1006\n",
      "Epoch 9/20\n",
      "60000/60000 [==============================] - 1s 10us/sample - loss: 40.5757 - accuracy: 0.1011\n",
      "Epoch 10/20\n",
      "60000/60000 [==============================] - 1s 10us/sample - loss: 39.5991 - accuracy: 0.1014\n",
      "Epoch 11/20\n",
      "60000/60000 [==============================] - 1s 10us/sample - loss: 40.3305 - accuracy: 0.1010\n",
      "Epoch 12/20\n",
      "60000/60000 [==============================] - 1s 10us/sample - loss: 40.2743 - accuracy: 0.1009\n",
      "Epoch 13/20\n",
      "60000/60000 [==============================] - 1s 10us/sample - loss: 40.9678 - accuracy: 0.0997\n",
      "Epoch 14/20\n",
      "60000/60000 [==============================] - 1s 10us/sample - loss: 39.9985 - accuracy: 0.0996\n",
      "Epoch 15/20\n",
      "60000/60000 [==============================] - 1s 11us/sample - loss: 40.8799 - accuracy: 0.0993\n",
      "Epoch 16/20\n",
      "60000/60000 [==============================] - 1s 10us/sample - loss: 39.9832 - accuracy: 0.1022\n",
      "Epoch 17/20\n",
      "60000/60000 [==============================] - 1s 10us/sample - loss: 40.7015 - accuracy: 0.0992\n",
      "Epoch 18/20\n",
      "60000/60000 [==============================] - 1s 10us/sample - loss: 40.4638 - accuracy: 0.0994\n",
      "Epoch 19/20\n",
      "60000/60000 [==============================] - 1s 10us/sample - loss: 39.7740 - accuracy: 0.1000\n",
      "Epoch 20/20\n",
      "60000/60000 [==============================] - 1s 10us/sample - loss: 39.6784 - accuracy: 0.0997\n"
     ]
    },
    {
     "data": {
      "text/plain": [
       "<tensorflow.python.keras.callbacks.History at 0x7fae01f4f950>"
      ]
     },
     "execution_count": 25,
     "metadata": {},
     "output_type": "execute_result"
    }
   ],
   "source": [
    "# Compile the model\n",
    "optimizer = SGD(lr=100)\n",
    "model5.compile(optimizer=optimizer, loss='categorical_crossentropy',\n",
    "              metrics=['accuracy'])\n",
    "# Fit the model\n",
    "model5.fit(X_train, Y_train, batch_size=128, epochs=20, verbose=1)"
   ]
  },
  {
   "cell_type": "code",
   "execution_count": 26,
   "metadata": {},
   "outputs": [
    {
     "name": "stdout",
     "output_type": "stream",
     "text": [
      "Test score: 53.77358292236328\n",
      "Test accuracy: 0.0892\n"
     ]
    }
   ],
   "source": [
    "# Print the model results\n",
    "score = model5.evaluate(X_test, Y_test, verbose=0)\n",
    "print('Test score:', score[0])\n",
    "print('Test accuracy:', score[1])"
   ]
  },
  {
   "cell_type": "markdown",
   "metadata": {},
   "source": [
    " Implement a three-layer ANN model with 128, 64, and 10 neurons in the layers. Use 0.0000001 as the learning rate."
   ]
  },
  {
   "cell_type": "code",
   "execution_count": 27,
   "metadata": {},
   "outputs": [
    {
     "name": "stdout",
     "output_type": "stream",
     "text": [
      "Train on 60000 samples\n",
      "Epoch 1/20\n",
      "60000/60000 [==============================] - 1s 14us/sample - loss: 2.3863 - accuracy: 0.0660\n",
      "Epoch 2/20\n",
      "60000/60000 [==============================] - 1s 11us/sample - loss: 2.3863 - accuracy: 0.0660\n",
      "Epoch 3/20\n",
      "60000/60000 [==============================] - 1s 10us/sample - loss: 2.3863 - accuracy: 0.0660\n",
      "Epoch 4/20\n",
      "60000/60000 [==============================] - 1s 10us/sample - loss: 2.3862 - accuracy: 0.0660\n",
      "Epoch 5/20\n",
      "60000/60000 [==============================] - 1s 10us/sample - loss: 2.3862 - accuracy: 0.0660\n",
      "Epoch 6/20\n",
      "60000/60000 [==============================] - 1s 11us/sample - loss: 2.3862 - accuracy: 0.0660\n",
      "Epoch 7/20\n",
      "60000/60000 [==============================] - 1s 11us/sample - loss: 2.3862 - accuracy: 0.0660\n",
      "Epoch 8/20\n",
      "60000/60000 [==============================] - 1s 10us/sample - loss: 2.3862 - accuracy: 0.0660\n",
      "Epoch 9/20\n",
      "60000/60000 [==============================] - 1s 10us/sample - loss: 2.3862 - accuracy: 0.0660\n",
      "Epoch 10/20\n",
      "60000/60000 [==============================] - 1s 10us/sample - loss: 2.3862 - accuracy: 0.0660\n",
      "Epoch 11/20\n",
      "60000/60000 [==============================] - 1s 10us/sample - loss: 2.3862 - accuracy: 0.0660\n",
      "Epoch 12/20\n",
      "60000/60000 [==============================] - 1s 10us/sample - loss: 2.3861 - accuracy: 0.0660\n",
      "Epoch 13/20\n",
      "60000/60000 [==============================] - 1s 11us/sample - loss: 2.3861 - accuracy: 0.0660\n",
      "Epoch 14/20\n",
      "60000/60000 [==============================] - 1s 10us/sample - loss: 2.3861 - accuracy: 0.0660\n",
      "Epoch 15/20\n",
      "60000/60000 [==============================] - 1s 10us/sample - loss: 2.3861 - accuracy: 0.0660\n",
      "Epoch 16/20\n",
      "60000/60000 [==============================] - 1s 10us/sample - loss: 2.3861 - accuracy: 0.0660\n",
      "Epoch 17/20\n",
      "60000/60000 [==============================] - 1s 10us/sample - loss: 2.3861 - accuracy: 0.0660\n",
      "Epoch 18/20\n",
      "60000/60000 [==============================] - 1s 10us/sample - loss: 2.3861 - accuracy: 0.0660\n",
      "Epoch 19/20\n",
      "60000/60000 [==============================] - 1s 10us/sample - loss: 2.3861 - accuracy: 0.0660\n",
      "Epoch 20/20\n",
      "60000/60000 [==============================] - 1s 10us/sample - loss: 2.3860 - accuracy: 0.0660s - loss: 2.3851 - accura\n"
     ]
    },
    {
     "data": {
      "text/plain": [
       "<tensorflow.python.keras.callbacks.History at 0x7fada1bc6a50>"
      ]
     },
     "execution_count": 27,
     "metadata": {},
     "output_type": "execute_result"
    }
   ],
   "source": [
    "# Create the model\n",
    "model6 = Sequential()\n",
    "\n",
    "model6.add(Dense(128, input_shape=(784,), activation=\"relu\"))\n",
    "model6.add(Dense(64, activation=\"relu\"))\n",
    "model6.add(Dense(10, activation=\"softmax\"))\n",
    "\n",
    "# Compile the model\n",
    "optimizer = SGD(lr=0.0000001)\n",
    "model6.compile(optimizer=optimizer, loss='categorical_crossentropy',\n",
    "              metrics=['accuracy'])\n",
    "\n",
    "# Fit the model\n",
    "model6.fit(X_train, Y_train, batch_size=128, epochs=20, verbose=1)"
   ]
  },
  {
   "cell_type": "code",
   "execution_count": 28,
   "metadata": {},
   "outputs": [
    {
     "name": "stdout",
     "output_type": "stream",
     "text": [
      "Test score: 2.385511281585693\n",
      "Test accuracy: 0.0625\n"
     ]
    }
   ],
   "source": [
    "# Print the model results\n",
    "score = model6.evaluate(X_test, Y_test, verbose=0)\n",
    "print('Test score:', score[0])\n",
    "print('Test accuracy:', score[1])"
   ]
  },
  {
   "cell_type": "markdown",
   "metadata": {},
   "source": [
    "#### Compare the results of each model with the result of the same model from the previous task. Which loss function performed best?"
   ]
  },
  {
   "cell_type": "markdown",
   "metadata": {},
   "source": [
    "* The learning rate of 0.01 performed the best, even though it is the default rate\n",
    "* Very high and very low learning rates performed poorly"
   ]
  },
  {
   "cell_type": "code",
   "execution_count": null,
   "metadata": {},
   "outputs": [],
   "source": []
  }
 ],
 "metadata": {
  "kernelspec": {
   "display_name": "Python 3",
   "language": "python",
   "name": "python3"
  },
  "language_info": {
   "codemirror_mode": {
    "name": "ipython",
    "version": 3
   },
   "file_extension": ".py",
   "mimetype": "text/x-python",
   "name": "python",
   "nbconvert_exporter": "python",
   "pygments_lexer": "ipython3",
   "version": "3.7.7"
  }
 },
 "nbformat": 4,
 "nbformat_minor": 4
}
