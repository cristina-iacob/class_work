{
 "cells": [
  {
   "cell_type": "code",
   "execution_count": 1,
   "metadata": {},
   "outputs": [
    {
     "data": {
      "application/javascript": [
       "\n",
       "            setTimeout(function() {\n",
       "                var nbb_cell_id = 1;\n",
       "                var nbb_unformatted_code = \"%reload_ext nb_black\";\n",
       "                var nbb_formatted_code = \"%reload_ext nb_black\";\n",
       "                var nbb_cells = Jupyter.notebook.get_cells();\n",
       "                for (var i = 0; i < nbb_cells.length; ++i) {\n",
       "                    if (nbb_cells[i].input_prompt_number == nbb_cell_id) {\n",
       "                        if (nbb_cells[i].get_text() == nbb_unformatted_code) {\n",
       "                             nbb_cells[i].set_text(nbb_formatted_code);\n",
       "                        }\n",
       "                        break;\n",
       "                    }\n",
       "                }\n",
       "            }, 500);\n",
       "            "
      ],
      "text/plain": [
       "<IPython.core.display.Javascript object>"
      ]
     },
     "metadata": {},
     "output_type": "display_data"
    }
   ],
   "source": [
    "%reload_ext nb_black"
   ]
  },
  {
   "cell_type": "markdown",
   "metadata": {
    "colab_type": "text",
    "id": "IajEE40kqbPO"
   },
   "source": [
    "## Nonparametric statistical significance tests\n",
    "\n",
    "non_parametric_tests_assign_solution.ipynb\n",
    "\n",
    "Complete the assignment below.\n",
    "\n",
    "References:\n",
    "- Nonparametric Statistics for Non-Statisticians: A Step-by-Step Approach, 2009.\n",
    "- How to Calculate Nonparametric Statistical Hypothesis Tests in Python, Jason Brownlee, 2018.\n"
   ]
  },
  {
   "cell_type": "markdown",
   "metadata": {
    "colab_type": "text",
    "id": "FQsgubxqqbPP"
   },
   "source": [
    "## Assignment\n",
    "\n",
    "### Exercise 1\n",
    "\n",
    "Our first dataset includes a very famous dataset, the Winsconsin Breast cancer dataset which is also available in https://archive.ics.uci.edu/ml/datasets/Breast+Cancer+Wisconsin+(Diagnostic). It includes features for cell nuclei for two categories of tumors: malignant and benign. As explained in the original data source:\n",
    "\n",
    ">Features are computed from a digitized image of a fine needle aspirate (FNA) of a breast mass. They describe characteristics of the cell nuclei present in the image.\n",
    "n the 3-dimensional space is that described in: [K. P. Bennett and O. L. Mangasarian: \"Robust Linear Programming Discrimination of Two Linearly Inseparable Sets\", Optimization Methods and Software 1, 1992, 23-34].\n",
    "\n",
    "Dataset:\n",
    "- https://tf-assets-prod.s3.amazonaws.com/tf-curric/data-science/breast_cancer.csv\n",
    "\n",
    "We will be using three of these features for our exercise: \n",
    "- diagnosis: the classification of the tumor with values \"M\" (malignant) and \"B\" (benign).\n",
    "- area_mean: the average area covered by the tumor cells\n",
    "- concavity_mean: severity of concave portions of the contour\n",
    "- texture_mean: standard deviation of gray-scale values\n",
    "\n",
    "For the three features described above(area_mean, concavity_mean, texture_mean), is there a difference in their average values in the two diagnosis groups? (Do samples of these features originate from the same distribution?)\n",
    "- Select and apply the appropriate statistical test.\n",
    "- Provide brief rationale for your selection of statistical test.\n",
    "- Generate boxplots to compare experimental vs. control for t1, t2, and t3.\n"
   ]
  },
  {
   "cell_type": "code",
   "execution_count": 2,
   "metadata": {},
   "outputs": [
    {
     "data": {
      "application/javascript": [
       "\n",
       "            setTimeout(function() {\n",
       "                var nbb_cell_id = 2;\n",
       "                var nbb_unformatted_code = \"import pandas as pd\\nimport numpy as np\\n%matplotlib inline\\nimport matplotlib.pyplot as plt\\nimport scipy.stats as stats\\n\\nimport seaborn as sns\\nimport statsmodels.api as sm\";\n",
       "                var nbb_formatted_code = \"import pandas as pd\\nimport numpy as np\\n\\n%matplotlib inline\\nimport matplotlib.pyplot as plt\\nimport scipy.stats as stats\\n\\nimport seaborn as sns\\nimport statsmodels.api as sm\";\n",
       "                var nbb_cells = Jupyter.notebook.get_cells();\n",
       "                for (var i = 0; i < nbb_cells.length; ++i) {\n",
       "                    if (nbb_cells[i].input_prompt_number == nbb_cell_id) {\n",
       "                        if (nbb_cells[i].get_text() == nbb_unformatted_code) {\n",
       "                             nbb_cells[i].set_text(nbb_formatted_code);\n",
       "                        }\n",
       "                        break;\n",
       "                    }\n",
       "                }\n",
       "            }, 500);\n",
       "            "
      ],
      "text/plain": [
       "<IPython.core.display.Javascript object>"
      ]
     },
     "metadata": {},
     "output_type": "display_data"
    }
   ],
   "source": [
    "import pandas as pd\n",
    "import numpy as np\n",
    "\n",
    "%matplotlib inline\n",
    "import matplotlib.pyplot as plt\n",
    "import scipy.stats as stats\n",
    "\n",
    "import seaborn as sns\n",
    "import statsmodels.api as sm"
   ]
  },
  {
   "cell_type": "code",
   "execution_count": 3,
   "metadata": {
    "colab": {},
    "colab_type": "code",
    "id": "TTsw--6YqbPQ",
    "outputId": "55bc97af-0cce-494a-8a45-2de0951a8720"
   },
   "outputs": [
    {
     "data": {
      "text/html": [
       "<div>\n",
       "<style scoped>\n",
       "    .dataframe tbody tr th:only-of-type {\n",
       "        vertical-align: middle;\n",
       "    }\n",
       "\n",
       "    .dataframe tbody tr th {\n",
       "        vertical-align: top;\n",
       "    }\n",
       "\n",
       "    .dataframe thead th {\n",
       "        text-align: right;\n",
       "    }\n",
       "</style>\n",
       "<table border=\"1\" class=\"dataframe\">\n",
       "  <thead>\n",
       "    <tr style=\"text-align: right;\">\n",
       "      <th></th>\n",
       "      <th>id</th>\n",
       "      <th>diagnosis</th>\n",
       "      <th>radius_mean</th>\n",
       "      <th>texture_mean</th>\n",
       "      <th>perimeter_mean</th>\n",
       "      <th>area_mean</th>\n",
       "      <th>smoothness_mean</th>\n",
       "      <th>compactness_mean</th>\n",
       "      <th>concavity_mean</th>\n",
       "      <th>concave points_mean</th>\n",
       "      <th>...</th>\n",
       "      <th>radius_worst</th>\n",
       "      <th>texture_worst</th>\n",
       "      <th>perimeter_worst</th>\n",
       "      <th>area_worst</th>\n",
       "      <th>smoothness_worst</th>\n",
       "      <th>compactness_worst</th>\n",
       "      <th>concavity_worst</th>\n",
       "      <th>concave points_worst</th>\n",
       "      <th>symmetry_worst</th>\n",
       "      <th>fractal_dimension_worst</th>\n",
       "    </tr>\n",
       "  </thead>\n",
       "  <tbody>\n",
       "    <tr>\n",
       "      <th>0</th>\n",
       "      <td>842302</td>\n",
       "      <td>M</td>\n",
       "      <td>17.99</td>\n",
       "      <td>10.38</td>\n",
       "      <td>122.80</td>\n",
       "      <td>1001.0</td>\n",
       "      <td>0.11840</td>\n",
       "      <td>0.27760</td>\n",
       "      <td>0.3001</td>\n",
       "      <td>0.14710</td>\n",
       "      <td>...</td>\n",
       "      <td>25.38</td>\n",
       "      <td>17.33</td>\n",
       "      <td>184.60</td>\n",
       "      <td>2019.0</td>\n",
       "      <td>0.1622</td>\n",
       "      <td>0.6656</td>\n",
       "      <td>0.7119</td>\n",
       "      <td>0.2654</td>\n",
       "      <td>0.4601</td>\n",
       "      <td>0.11890</td>\n",
       "    </tr>\n",
       "    <tr>\n",
       "      <th>1</th>\n",
       "      <td>842517</td>\n",
       "      <td>M</td>\n",
       "      <td>20.57</td>\n",
       "      <td>17.77</td>\n",
       "      <td>132.90</td>\n",
       "      <td>1326.0</td>\n",
       "      <td>0.08474</td>\n",
       "      <td>0.07864</td>\n",
       "      <td>0.0869</td>\n",
       "      <td>0.07017</td>\n",
       "      <td>...</td>\n",
       "      <td>24.99</td>\n",
       "      <td>23.41</td>\n",
       "      <td>158.80</td>\n",
       "      <td>1956.0</td>\n",
       "      <td>0.1238</td>\n",
       "      <td>0.1866</td>\n",
       "      <td>0.2416</td>\n",
       "      <td>0.1860</td>\n",
       "      <td>0.2750</td>\n",
       "      <td>0.08902</td>\n",
       "    </tr>\n",
       "    <tr>\n",
       "      <th>2</th>\n",
       "      <td>84300903</td>\n",
       "      <td>M</td>\n",
       "      <td>19.69</td>\n",
       "      <td>21.25</td>\n",
       "      <td>130.00</td>\n",
       "      <td>1203.0</td>\n",
       "      <td>0.10960</td>\n",
       "      <td>0.15990</td>\n",
       "      <td>0.1974</td>\n",
       "      <td>0.12790</td>\n",
       "      <td>...</td>\n",
       "      <td>23.57</td>\n",
       "      <td>25.53</td>\n",
       "      <td>152.50</td>\n",
       "      <td>1709.0</td>\n",
       "      <td>0.1444</td>\n",
       "      <td>0.4245</td>\n",
       "      <td>0.4504</td>\n",
       "      <td>0.2430</td>\n",
       "      <td>0.3613</td>\n",
       "      <td>0.08758</td>\n",
       "    </tr>\n",
       "    <tr>\n",
       "      <th>3</th>\n",
       "      <td>84348301</td>\n",
       "      <td>M</td>\n",
       "      <td>11.42</td>\n",
       "      <td>20.38</td>\n",
       "      <td>77.58</td>\n",
       "      <td>386.1</td>\n",
       "      <td>0.14250</td>\n",
       "      <td>0.28390</td>\n",
       "      <td>0.2414</td>\n",
       "      <td>0.10520</td>\n",
       "      <td>...</td>\n",
       "      <td>14.91</td>\n",
       "      <td>26.50</td>\n",
       "      <td>98.87</td>\n",
       "      <td>567.7</td>\n",
       "      <td>0.2098</td>\n",
       "      <td>0.8663</td>\n",
       "      <td>0.6869</td>\n",
       "      <td>0.2575</td>\n",
       "      <td>0.6638</td>\n",
       "      <td>0.17300</td>\n",
       "    </tr>\n",
       "    <tr>\n",
       "      <th>4</th>\n",
       "      <td>84358402</td>\n",
       "      <td>M</td>\n",
       "      <td>20.29</td>\n",
       "      <td>14.34</td>\n",
       "      <td>135.10</td>\n",
       "      <td>1297.0</td>\n",
       "      <td>0.10030</td>\n",
       "      <td>0.13280</td>\n",
       "      <td>0.1980</td>\n",
       "      <td>0.10430</td>\n",
       "      <td>...</td>\n",
       "      <td>22.54</td>\n",
       "      <td>16.67</td>\n",
       "      <td>152.20</td>\n",
       "      <td>1575.0</td>\n",
       "      <td>0.1374</td>\n",
       "      <td>0.2050</td>\n",
       "      <td>0.4000</td>\n",
       "      <td>0.1625</td>\n",
       "      <td>0.2364</td>\n",
       "      <td>0.07678</td>\n",
       "    </tr>\n",
       "  </tbody>\n",
       "</table>\n",
       "<p>5 rows × 32 columns</p>\n",
       "</div>"
      ],
      "text/plain": [
       "         id diagnosis  radius_mean  texture_mean  perimeter_mean  area_mean  \\\n",
       "0    842302         M        17.99         10.38          122.80     1001.0   \n",
       "1    842517         M        20.57         17.77          132.90     1326.0   \n",
       "2  84300903         M        19.69         21.25          130.00     1203.0   \n",
       "3  84348301         M        11.42         20.38           77.58      386.1   \n",
       "4  84358402         M        20.29         14.34          135.10     1297.0   \n",
       "\n",
       "   smoothness_mean  compactness_mean  concavity_mean  concave points_mean  \\\n",
       "0          0.11840           0.27760          0.3001              0.14710   \n",
       "1          0.08474           0.07864          0.0869              0.07017   \n",
       "2          0.10960           0.15990          0.1974              0.12790   \n",
       "3          0.14250           0.28390          0.2414              0.10520   \n",
       "4          0.10030           0.13280          0.1980              0.10430   \n",
       "\n",
       "   ...  radius_worst  texture_worst  perimeter_worst  area_worst  \\\n",
       "0  ...         25.38          17.33           184.60      2019.0   \n",
       "1  ...         24.99          23.41           158.80      1956.0   \n",
       "2  ...         23.57          25.53           152.50      1709.0   \n",
       "3  ...         14.91          26.50            98.87       567.7   \n",
       "4  ...         22.54          16.67           152.20      1575.0   \n",
       "\n",
       "   smoothness_worst  compactness_worst  concavity_worst  concave points_worst  \\\n",
       "0            0.1622             0.6656           0.7119                0.2654   \n",
       "1            0.1238             0.1866           0.2416                0.1860   \n",
       "2            0.1444             0.4245           0.4504                0.2430   \n",
       "3            0.2098             0.8663           0.6869                0.2575   \n",
       "4            0.1374             0.2050           0.4000                0.1625   \n",
       "\n",
       "   symmetry_worst  fractal_dimension_worst  \n",
       "0          0.4601                  0.11890  \n",
       "1          0.2750                  0.08902  \n",
       "2          0.3613                  0.08758  \n",
       "3          0.6638                  0.17300  \n",
       "4          0.2364                  0.07678  \n",
       "\n",
       "[5 rows x 32 columns]"
      ]
     },
     "execution_count": 3,
     "metadata": {},
     "output_type": "execute_result"
    },
    {
     "data": {
      "application/javascript": [
       "\n",
       "            setTimeout(function() {\n",
       "                var nbb_cell_id = 3;\n",
       "                var nbb_unformatted_code = \"df = pd.read_csv(\\\"https://tf-assets-prod.s3.amazonaws.com/tf-curric/data-science/breast_cancer.csv\\\")\\n#df = df[[\\\"diagnosis\\\", 'area_mean', 'concavity_mean', 'texture_mean']]\\ndf.head()\";\n",
       "                var nbb_formatted_code = \"df = pd.read_csv(\\n    \\\"https://tf-assets-prod.s3.amazonaws.com/tf-curric/data-science/breast_cancer.csv\\\"\\n)\\n# df = df[[\\\"diagnosis\\\", 'area_mean', 'concavity_mean', 'texture_mean']]\\ndf.head()\";\n",
       "                var nbb_cells = Jupyter.notebook.get_cells();\n",
       "                for (var i = 0; i < nbb_cells.length; ++i) {\n",
       "                    if (nbb_cells[i].input_prompt_number == nbb_cell_id) {\n",
       "                        if (nbb_cells[i].get_text() == nbb_unformatted_code) {\n",
       "                             nbb_cells[i].set_text(nbb_formatted_code);\n",
       "                        }\n",
       "                        break;\n",
       "                    }\n",
       "                }\n",
       "            }, 500);\n",
       "            "
      ],
      "text/plain": [
       "<IPython.core.display.Javascript object>"
      ]
     },
     "metadata": {},
     "output_type": "display_data"
    }
   ],
   "source": [
    "df = pd.read_csv(\n",
    "    \"https://tf-assets-prod.s3.amazonaws.com/tf-curric/data-science/breast_cancer.csv\"\n",
    ")\n",
    "#df.head()"
   ]
  },
  {
   "cell_type": "code",
   "execution_count": 4,
   "metadata": {},
   "outputs": [
    {
     "data": {
      "text/html": [
       "<div>\n",
       "<style scoped>\n",
       "    .dataframe tbody tr th:only-of-type {\n",
       "        vertical-align: middle;\n",
       "    }\n",
       "\n",
       "    .dataframe tbody tr th {\n",
       "        vertical-align: top;\n",
       "    }\n",
       "\n",
       "    .dataframe thead th {\n",
       "        text-align: right;\n",
       "    }\n",
       "</style>\n",
       "<table border=\"1\" class=\"dataframe\">\n",
       "  <thead>\n",
       "    <tr style=\"text-align: right;\">\n",
       "      <th></th>\n",
       "      <th>diagnosis</th>\n",
       "      <th>area_mean</th>\n",
       "      <th>concavity_mean</th>\n",
       "      <th>texture_mean</th>\n",
       "    </tr>\n",
       "  </thead>\n",
       "  <tbody>\n",
       "    <tr>\n",
       "      <th>0</th>\n",
       "      <td>M</td>\n",
       "      <td>1001.0</td>\n",
       "      <td>0.3001</td>\n",
       "      <td>10.38</td>\n",
       "    </tr>\n",
       "    <tr>\n",
       "      <th>1</th>\n",
       "      <td>M</td>\n",
       "      <td>1326.0</td>\n",
       "      <td>0.0869</td>\n",
       "      <td>17.77</td>\n",
       "    </tr>\n",
       "    <tr>\n",
       "      <th>2</th>\n",
       "      <td>M</td>\n",
       "      <td>1203.0</td>\n",
       "      <td>0.1974</td>\n",
       "      <td>21.25</td>\n",
       "    </tr>\n",
       "    <tr>\n",
       "      <th>3</th>\n",
       "      <td>M</td>\n",
       "      <td>386.1</td>\n",
       "      <td>0.2414</td>\n",
       "      <td>20.38</td>\n",
       "    </tr>\n",
       "    <tr>\n",
       "      <th>4</th>\n",
       "      <td>M</td>\n",
       "      <td>1297.0</td>\n",
       "      <td>0.1980</td>\n",
       "      <td>14.34</td>\n",
       "    </tr>\n",
       "  </tbody>\n",
       "</table>\n",
       "</div>"
      ],
      "text/plain": [
       "  diagnosis  area_mean  concavity_mean  texture_mean\n",
       "0         M     1001.0          0.3001         10.38\n",
       "1         M     1326.0          0.0869         17.77\n",
       "2         M     1203.0          0.1974         21.25\n",
       "3         M      386.1          0.2414         20.38\n",
       "4         M     1297.0          0.1980         14.34"
      ]
     },
     "execution_count": 4,
     "metadata": {},
     "output_type": "execute_result"
    },
    {
     "data": {
      "application/javascript": [
       "\n",
       "            setTimeout(function() {\n",
       "                var nbb_cell_id = 4;\n",
       "                var nbb_unformatted_code = \"df = df[[\\\"diagnosis\\\", 'area_mean', 'concavity_mean', 'texture_mean']]\\ndf.head()\";\n",
       "                var nbb_formatted_code = \"df = df[[\\\"diagnosis\\\", \\\"area_mean\\\", \\\"concavity_mean\\\", \\\"texture_mean\\\"]]\\ndf.head()\";\n",
       "                var nbb_cells = Jupyter.notebook.get_cells();\n",
       "                for (var i = 0; i < nbb_cells.length; ++i) {\n",
       "                    if (nbb_cells[i].input_prompt_number == nbb_cell_id) {\n",
       "                        if (nbb_cells[i].get_text() == nbb_unformatted_code) {\n",
       "                             nbb_cells[i].set_text(nbb_formatted_code);\n",
       "                        }\n",
       "                        break;\n",
       "                    }\n",
       "                }\n",
       "            }, 500);\n",
       "            "
      ],
      "text/plain": [
       "<IPython.core.display.Javascript object>"
      ]
     },
     "metadata": {},
     "output_type": "display_data"
    }
   ],
   "source": [
    "df = df[[\"diagnosis\", \"area_mean\", \"concavity_mean\", \"texture_mean\"]]\n",
    "df.head()"
   ]
  },
  {
   "cell_type": "code",
   "execution_count": null,
   "metadata": {
    "colab": {},
    "colab_type": "code",
    "id": "Fj2gP-PLpZ6f"
   },
   "outputs": [],
   "source": [
    "# Check the distribution of classes for the the diagnosis column"
   ]
  },
  {
   "cell_type": "code",
   "execution_count": null,
   "metadata": {
    "colab": {},
    "colab_type": "code",
    "id": "ds4PBznTqbPW",
    "outputId": "039118d6-ab5e-47b3-8e9a-79a521b5ce01",
    "scrolled": true
   },
   "outputs": [
    {
     "name": "stdout",
     "output_type": "stream",
     "text": [
      "<class 'pandas.core.frame.DataFrame'>\n",
      "RangeIndex: 569 entries, 0 to 568\n",
      "Data columns (total 4 columns):\n",
      "diagnosis         569 non-null object\n",
      "area_mean         569 non-null float64\n",
      "concavity_mean    569 non-null float64\n",
      "texture_mean      569 non-null float64\n",
      "dtypes: float64(3), object(1)\n",
      "memory usage: 17.9+ KB\n"
     ]
    }
   ],
   "source": [
    "df.info()"
   ]
  },
  {
   "cell_type": "markdown",
   "metadata": {
    "colab_type": "text",
    "id": "8vrbptjVqbPa"
   },
   "source": [
    "We explore if the referenced features follow a normal distribution. We examine the skewness and kurtosis of the groups.\n",
    "\n",
    "Optional: We can run a Jarque–Bera test which tests if the data have the skewness and kurtosis matching a normal distribution.\n",
    "In the case of the Jarque–Bera test the null hypothesis would state that the skewness and kurtosis matches that of a normal distribution."
   ]
  },
  {
   "cell_type": "code",
   "execution_count": null,
   "metadata": {
    "colab": {},
    "colab_type": "code",
    "id": "t3NzKoOcpZ9S"
   },
   "outputs": [],
   "source": [
    "# Print the skewness and kurtosis of the groups. Optionally run a Jarque–Bera\n",
    "# Afterwards you can comment your findings wether the features follow a normal distribution of not."
   ]
  },
  {
   "cell_type": "code",
   "execution_count": 5,
   "metadata": {},
   "outputs": [
    {
     "data": {
      "text/plain": [
       "DescribeResult(nobs=569, minmax=(143.5, 2501.0), mean=654.8891036906855, variance=123843.55431768115, skewness=1.6413905092044112, kurtosis=3.609761264823108)"
      ]
     },
     "execution_count": 5,
     "metadata": {},
     "output_type": "execute_result"
    },
    {
     "data": {
      "application/javascript": [
       "\n",
       "            setTimeout(function() {\n",
       "                var nbb_cell_id = 5;\n",
       "                var nbb_unformatted_code = \"stats.describe(df['area_mean'])\";\n",
       "                var nbb_formatted_code = \"stats.describe(df[\\\"area_mean\\\"])\";\n",
       "                var nbb_cells = Jupyter.notebook.get_cells();\n",
       "                for (var i = 0; i < nbb_cells.length; ++i) {\n",
       "                    if (nbb_cells[i].input_prompt_number == nbb_cell_id) {\n",
       "                        if (nbb_cells[i].get_text() == nbb_unformatted_code) {\n",
       "                             nbb_cells[i].set_text(nbb_formatted_code);\n",
       "                        }\n",
       "                        break;\n",
       "                    }\n",
       "                }\n",
       "            }, 500);\n",
       "            "
      ],
      "text/plain": [
       "<IPython.core.display.Javascript object>"
      ]
     },
     "metadata": {},
     "output_type": "display_data"
    }
   ],
   "source": [
    "stats.describe(df[\"area_mean\"])"
   ]
  },
  {
   "cell_type": "code",
   "execution_count": 6,
   "metadata": {},
   "outputs": [
    {
     "data": {
      "text/plain": [
       "DescribeResult(nobs=569, minmax=(0.0, 0.4268), mean=0.0887993158172232, variance=0.006355247900423129, skewness=1.3974832352826647, kurtosis=1.9705916515788928)"
      ]
     },
     "execution_count": 6,
     "metadata": {},
     "output_type": "execute_result"
    },
    {
     "data": {
      "application/javascript": [
       "\n",
       "            setTimeout(function() {\n",
       "                var nbb_cell_id = 6;\n",
       "                var nbb_unformatted_code = \"stats.describe(df['concavity_mean'])\";\n",
       "                var nbb_formatted_code = \"stats.describe(df[\\\"concavity_mean\\\"])\";\n",
       "                var nbb_cells = Jupyter.notebook.get_cells();\n",
       "                for (var i = 0; i < nbb_cells.length; ++i) {\n",
       "                    if (nbb_cells[i].input_prompt_number == nbb_cell_id) {\n",
       "                        if (nbb_cells[i].get_text() == nbb_unformatted_code) {\n",
       "                             nbb_cells[i].set_text(nbb_formatted_code);\n",
       "                        }\n",
       "                        break;\n",
       "                    }\n",
       "                }\n",
       "            }, 500);\n",
       "            "
      ],
      "text/plain": [
       "<IPython.core.display.Javascript object>"
      ]
     },
     "metadata": {},
     "output_type": "display_data"
    }
   ],
   "source": [
    "stats.describe(df[\"concavity_mean\"])"
   ]
  },
  {
   "cell_type": "code",
   "execution_count": 7,
   "metadata": {},
   "outputs": [
    {
     "data": {
      "text/plain": [
       "DescribeResult(nobs=569, minmax=(9.71, 39.28), mean=19.289648506151142, variance=18.49890867905146, skewness=0.6487335672867015, kurtosis=0.74114542022429)"
      ]
     },
     "execution_count": 7,
     "metadata": {},
     "output_type": "execute_result"
    },
    {
     "data": {
      "application/javascript": [
       "\n",
       "            setTimeout(function() {\n",
       "                var nbb_cell_id = 7;\n",
       "                var nbb_unformatted_code = \"stats.describe(df['texture_mean'])\";\n",
       "                var nbb_formatted_code = \"stats.describe(df[\\\"texture_mean\\\"])\";\n",
       "                var nbb_cells = Jupyter.notebook.get_cells();\n",
       "                for (var i = 0; i < nbb_cells.length; ++i) {\n",
       "                    if (nbb_cells[i].input_prompt_number == nbb_cell_id) {\n",
       "                        if (nbb_cells[i].get_text() == nbb_unformatted_code) {\n",
       "                             nbb_cells[i].set_text(nbb_formatted_code);\n",
       "                        }\n",
       "                        break;\n",
       "                    }\n",
       "                }\n",
       "            }, 500);\n",
       "            "
      ],
      "text/plain": [
       "<IPython.core.display.Javascript object>"
      ]
     },
     "metadata": {},
     "output_type": "display_data"
    }
   ],
   "source": [
    "stats.describe(df[\"texture_mean\"])"
   ]
  },
  {
   "cell_type": "code",
   "execution_count": 9,
   "metadata": {
    "colab": {},
    "colab_type": "code",
    "id": "F32QkqagpZ9X"
   },
   "outputs": [
    {
     "data": {
      "application/javascript": [
       "\n",
       "            setTimeout(function() {\n",
       "                var nbb_cell_id = 9;\n",
       "                var nbb_unformatted_code = \"malignant = df[df.diagnosis=='M'][['area_mean', 'concavity_mean', 'texture_mean']]\\nbenign = df[df.diagnosis=='B'][['area_mean', 'concavity_mean', 'texture_mean']]\";\n",
       "                var nbb_formatted_code = \"malignant = df[df.diagnosis == \\\"M\\\"][[\\\"area_mean\\\", \\\"concavity_mean\\\", \\\"texture_mean\\\"]]\\nbenign = df[df.diagnosis == \\\"B\\\"][[\\\"area_mean\\\", \\\"concavity_mean\\\", \\\"texture_mean\\\"]]\";\n",
       "                var nbb_cells = Jupyter.notebook.get_cells();\n",
       "                for (var i = 0; i < nbb_cells.length; ++i) {\n",
       "                    if (nbb_cells[i].input_prompt_number == nbb_cell_id) {\n",
       "                        if (nbb_cells[i].get_text() == nbb_unformatted_code) {\n",
       "                             nbb_cells[i].set_text(nbb_formatted_code);\n",
       "                        }\n",
       "                        break;\n",
       "                    }\n",
       "                }\n",
       "            }, 500);\n",
       "            "
      ],
      "text/plain": [
       "<IPython.core.display.Javascript object>"
      ]
     },
     "metadata": {},
     "output_type": "display_data"
    }
   ],
   "source": [
    "malignant = df[df.diagnosis == \"M\"][[\"area_mean\", \"concavity_mean\", \"texture_mean\"]]\n",
    "benign = df[df.diagnosis == \"B\"][[\"area_mean\", \"concavity_mean\", \"texture_mean\"]]"
   ]
  },
  {
   "cell_type": "code",
   "execution_count": null,
   "metadata": {
    "colab": {},
    "colab_type": "code",
    "id": "tG4PWBnHpZ9b"
   },
   "outputs": [],
   "source": [
    "# Plot the histograms for the distribution of each feature and for each class (malignant/benign) to visually explore \n",
    "# wether these distributions are skewed or not."
   ]
  },
  {
   "cell_type": "code",
   "execution_count": 13,
   "metadata": {},
   "outputs": [
    {
     "data": {
      "image/png": "[encoded data removed]",
      "text/plain": [
       "<Figure size 432x288 with 1 Axes>"
      ]
     },
     "metadata": {
      "needs_background": "light"
     },
     "output_type": "display_data"
    },
    {
     "data": {
      "image/png": "[encoded data removed]",
      "text/plain": [
       "<Figure size 432x288 with 1 Axes>"
      ]
     },
     "metadata": {
      "needs_background": "light"
     },
     "output_type": "display_data"
    },
    {
     "data": {
      "image/png": "[encoded data removed]",
      "text/plain": [
       "<Figure size 432x288 with 1 Axes>"
      ]
     },
     "metadata": {
      "needs_background": "light"
     },
     "output_type": "display_data"
    },
    {
     "data": {
      "application/javascript": [
       "\n",
       "            setTimeout(function() {\n",
       "                var nbb_cell_id = 13;\n",
       "                var nbb_unformatted_code = \"benign[\\\"area_mean\\\"].hist()\\nplt.show()\\nbenign[\\\"concavity_mean\\\"].hist()\\nplt.show()\\nbenign[\\\"texture_mean\\\"].hist()\\nplt.show()\";\n",
       "                var nbb_formatted_code = \"benign[\\\"area_mean\\\"].hist()\\nplt.show()\\nbenign[\\\"concavity_mean\\\"].hist()\\nplt.show()\\nbenign[\\\"texture_mean\\\"].hist()\\nplt.show()\";\n",
       "                var nbb_cells = Jupyter.notebook.get_cells();\n",
       "                for (var i = 0; i < nbb_cells.length; ++i) {\n",
       "                    if (nbb_cells[i].input_prompt_number == nbb_cell_id) {\n",
       "                        if (nbb_cells[i].get_text() == nbb_unformatted_code) {\n",
       "                             nbb_cells[i].set_text(nbb_formatted_code);\n",
       "                        }\n",
       "                        break;\n",
       "                    }\n",
       "                }\n",
       "            }, 500);\n",
       "            "
      ],
      "text/plain": [
       "<IPython.core.display.Javascript object>"
      ]
     },
     "metadata": {},
     "output_type": "display_data"
    }
   ],
   "source": [
    "benign[\"area_mean\"].hist()\n",
    "plt.show()\n",
    "benign[\"concavity_mean\"].hist()\n",
    "plt.show()\n",
    "benign[\"texture_mean\"].hist()\n",
    "plt.show()"
   ]
  },
  {
   "cell_type": "code",
   "execution_count": 29,
   "metadata": {},
   "outputs": [
    {
     "data": {
      "image/png": "[encoded data removed]",
      "text/plain": [
       "<Figure size 432x288 with 1 Axes>"
      ]
     },
     "metadata": {
      "needs_background": "light"
     },
     "output_type": "display_data"
    },
    {
     "data": {
      "image/png": "[encoded data removed]",
      "text/plain": [
       "<Figure size 432x288 with 1 Axes>"
      ]
     },
     "metadata": {
      "needs_background": "light"
     },
     "output_type": "display_data"
    },
    {
     "data": {
      "image/png": "[encoded data removed]",
      "text/plain": [
       "<Figure size 432x288 with 1 Axes>"
      ]
     },
     "metadata": {
      "needs_background": "light"
     },
     "output_type": "display_data"
    },
    {
     "data": {
      "application/javascript": [
       "\n",
       "            setTimeout(function() {\n",
       "                var nbb_cell_id = 29;\n",
       "                var nbb_unformatted_code = \"malignant[\\\"area_mean\\\"].hist()\\nplt.show()\\nmalignant[\\\"concavity_mean\\\"].hist()\\nplt.show()\\nmalignant[\\\"texture_mean\\\"].hist()\\nplt.show()\\n\\n#not same scale so it's not working to plot all of them on the same graph\\n# plt.hist(malignant[\\\"area_mean\\\"], alpha = 0.5)\\n# plt.hist(malignant[\\\"concavity_mean\\\"],alpha = 0.5)\\n# plt.hist(malignant[\\\"texture_mean\\\"], alpha = 0.5)\\n# plt.show()\";\n",
       "                var nbb_formatted_code = \"malignant[\\\"area_mean\\\"].hist()\\nplt.show()\\nmalignant[\\\"concavity_mean\\\"].hist()\\nplt.show()\\nmalignant[\\\"texture_mean\\\"].hist()\\nplt.show()\\n\\n# not same scale so it's not working to plot all of them on the same graph\\n# plt.hist(malignant[\\\"area_mean\\\"], alpha = 0.5)\\n# plt.hist(malignant[\\\"concavity_mean\\\"],alpha = 0.5)\\n# plt.hist(malignant[\\\"texture_mean\\\"], alpha = 0.5)\\n# plt.show()\";\n",
       "                var nbb_cells = Jupyter.notebook.get_cells();\n",
       "                for (var i = 0; i < nbb_cells.length; ++i) {\n",
       "                    if (nbb_cells[i].input_prompt_number == nbb_cell_id) {\n",
       "                        if (nbb_cells[i].get_text() == nbb_unformatted_code) {\n",
       "                             nbb_cells[i].set_text(nbb_formatted_code);\n",
       "                        }\n",
       "                        break;\n",
       "                    }\n",
       "                }\n",
       "            }, 500);\n",
       "            "
      ],
      "text/plain": [
       "<IPython.core.display.Javascript object>"
      ]
     },
     "metadata": {},
     "output_type": "display_data"
    }
   ],
   "source": [
    "malignant[\"area_mean\"].hist()\n",
    "plt.show()\n",
    "malignant[\"concavity_mean\"].hist()\n",
    "plt.show()\n",
    "malignant[\"texture_mean\"].hist()\n",
    "plt.show()\n",
    "\n",
    "#not same scale so it's not working to plot all of them on the same graph\n",
    "# plt.hist(malignant[\"area_mean\"], alpha = 0.5)\n",
    "# plt.hist(malignant[\"concavity_mean\"],alpha = 0.5)\n",
    "# plt.hist(malignant[\"texture_mean\"], alpha = 0.5)\n",
    "# plt.show()\n"
   ]
  },
  {
   "cell_type": "code",
   "execution_count": 30,
   "metadata": {},
   "outputs": [
    {
     "data": {
      "image/png": "[encoded data removed]",
      "text/plain": [
       "<Figure size 432x288 with 1 Axes>"
      ]
     },
     "metadata": {
      "needs_background": "light"
     },
     "output_type": "display_data"
    },
    {
     "data": {
      "image/png": "[encoded data removed]",
      "text/plain": [
       "<Figure size 432x288 with 1 Axes>"
      ]
     },
     "metadata": {
      "needs_background": "light"
     },
     "output_type": "display_data"
    },
    {
     "data": {
      "image/png": "[encoded data removed]",
      "text/plain": [
       "<Figure size 432x288 with 1 Axes>"
      ]
     },
     "metadata": {
      "needs_background": "light"
     },
     "output_type": "display_data"
    },
    {
     "data": {
      "application/javascript": [
       "\n",
       "            setTimeout(function() {\n",
       "                var nbb_cell_id = 30;\n",
       "                var nbb_unformatted_code = \"malignant[\\\"area_mean\\\"].hist()\\nplt.show()\\nmalignant[\\\"concavity_mean\\\"].hist()\\nplt.show()\\nmalignant[\\\"texture_mean\\\"].hist()\\nplt.show()\";\n",
       "                var nbb_formatted_code = \"malignant[\\\"area_mean\\\"].hist()\\nplt.show()\\nmalignant[\\\"concavity_mean\\\"].hist()\\nplt.show()\\nmalignant[\\\"texture_mean\\\"].hist()\\nplt.show()\";\n",
       "                var nbb_cells = Jupyter.notebook.get_cells();\n",
       "                for (var i = 0; i < nbb_cells.length; ++i) {\n",
       "                    if (nbb_cells[i].input_prompt_number == nbb_cell_id) {\n",
       "                        if (nbb_cells[i].get_text() == nbb_unformatted_code) {\n",
       "                             nbb_cells[i].set_text(nbb_formatted_code);\n",
       "                        }\n",
       "                        break;\n",
       "                    }\n",
       "                }\n",
       "            }, 500);\n",
       "            "
      ],
      "text/plain": [
       "<IPython.core.display.Javascript object>"
      ]
     },
     "metadata": {},
     "output_type": "display_data"
    }
   ],
   "source": [
    "malignant[\"area_mean\"].hist()\n",
    "plt.show()\n",
    "malignant[\"concavity_mean\"].hist()\n",
    "plt.show()\n",
    "malignant[\"texture_mean\"].hist()\n",
    "plt.show()"
   ]
  },
  {
   "cell_type": "code",
   "execution_count": null,
   "metadata": {
    "colab": {},
    "colab_type": "code",
    "id": "ZN6VDIK4qbPe"
   },
   "outputs": [],
   "source": [
    "# Run 3 Kruskal-Wallis tests, one for each group/feature and describe the results of these tests. \n",
    "# State wether the null hypothesis will be rejected or not."
   ]
  },
  {
   "cell_type": "code",
   "execution_count": 20,
   "metadata": {},
   "outputs": [
    {
     "data": {
      "text/plain": [
       "KruskalResult(statistic=306.1155244413551, pvalue=1.5326695021713592e-68)"
      ]
     },
     "execution_count": 20,
     "metadata": {},
     "output_type": "execute_result"
    },
    {
     "data": {
      "application/javascript": [
       "\n",
       "            setTimeout(function() {\n",
       "                var nbb_cell_id = 20;\n",
       "                var nbb_unformatted_code = \"stats.kruskal(malignant[\\\"area_mean\\\"], benign[\\\"area_mean\\\"])\";\n",
       "                var nbb_formatted_code = \"stats.kruskal(malignant[\\\"area_mean\\\"], benign[\\\"area_mean\\\"])\";\n",
       "                var nbb_cells = Jupyter.notebook.get_cells();\n",
       "                for (var i = 0; i < nbb_cells.length; ++i) {\n",
       "                    if (nbb_cells[i].input_prompt_number == nbb_cell_id) {\n",
       "                        if (nbb_cells[i].get_text() == nbb_unformatted_code) {\n",
       "                             nbb_cells[i].set_text(nbb_formatted_code);\n",
       "                        }\n",
       "                        break;\n",
       "                    }\n",
       "                }\n",
       "            }, 500);\n",
       "            "
      ],
      "text/plain": [
       "<IPython.core.display.Javascript object>"
      ]
     },
     "metadata": {},
     "output_type": "display_data"
    }
   ],
   "source": [
    "stats.kruskal(malignant[\"area_mean\"], benign[\"area_mean\"])"
   ]
  },
  {
   "cell_type": "code",
   "execution_count": 21,
   "metadata": {},
   "outputs": [
    {
     "data": {
      "text/plain": [
       "KruskalResult(statistic=121.22093055992241, pvalue=3.418605714119009e-28)"
      ]
     },
     "execution_count": 21,
     "metadata": {},
     "output_type": "execute_result"
    },
    {
     "data": {
      "application/javascript": [
       "\n",
       "            setTimeout(function() {\n",
       "                var nbb_cell_id = 21;\n",
       "                var nbb_unformatted_code = \"stats.kruskal(malignant[\\\"texture_mean\\\"], benign[\\\"texture_mean\\\"])\";\n",
       "                var nbb_formatted_code = \"stats.kruskal(malignant[\\\"texture_mean\\\"], benign[\\\"texture_mean\\\"])\";\n",
       "                var nbb_cells = Jupyter.notebook.get_cells();\n",
       "                for (var i = 0; i < nbb_cells.length; ++i) {\n",
       "                    if (nbb_cells[i].input_prompt_number == nbb_cell_id) {\n",
       "                        if (nbb_cells[i].get_text() == nbb_unformatted_code) {\n",
       "                             nbb_cells[i].set_text(nbb_formatted_code);\n",
       "                        }\n",
       "                        break;\n",
       "                    }\n",
       "                }\n",
       "            }, 500);\n",
       "            "
      ],
      "text/plain": [
       "<IPython.core.display.Javascript object>"
      ]
     },
     "metadata": {},
     "output_type": "display_data"
    }
   ],
   "source": [
    "stats.kruskal(malignant[\"texture_mean\"], benign[\"texture_mean\"])"
   ]
  },
  {
   "cell_type": "code",
   "execution_count": 22,
   "metadata": {},
   "outputs": [
    {
     "data": {
      "text/plain": [
       "KruskalResult(statistic=305.43657612021565, pvalue=2.1545636238729746e-68)"
      ]
     },
     "execution_count": 22,
     "metadata": {},
     "output_type": "execute_result"
    },
    {
     "data": {
      "application/javascript": [
       "\n",
       "            setTimeout(function() {\n",
       "                var nbb_cell_id = 22;\n",
       "                var nbb_unformatted_code = \"stats.kruskal(malignant[\\\"concavity_mean\\\"], benign[\\\"concavity_mean\\\"])\";\n",
       "                var nbb_formatted_code = \"stats.kruskal(malignant[\\\"concavity_mean\\\"], benign[\\\"concavity_mean\\\"])\";\n",
       "                var nbb_cells = Jupyter.notebook.get_cells();\n",
       "                for (var i = 0; i < nbb_cells.length; ++i) {\n",
       "                    if (nbb_cells[i].input_prompt_number == nbb_cell_id) {\n",
       "                        if (nbb_cells[i].get_text() == nbb_unformatted_code) {\n",
       "                             nbb_cells[i].set_text(nbb_formatted_code);\n",
       "                        }\n",
       "                        break;\n",
       "                    }\n",
       "                }\n",
       "            }, 500);\n",
       "            "
      ],
      "text/plain": [
       "<IPython.core.display.Javascript object>"
      ]
     },
     "metadata": {},
     "output_type": "display_data"
    }
   ],
   "source": [
    "stats.kruskal(malignant[\"concavity_mean\"], benign[\"concavity_mean\"])"
   ]
  },
  {
   "cell_type": "code",
   "execution_count": null,
   "metadata": {
    "colab": {},
    "colab_type": "code",
    "id": "xzFd2f9cqbPi"
   },
   "outputs": [],
   "source": [
    "# Afterwards create 3 boxplots: one for each feature grouped by the diagnosis class."
   ]
  },
  {
   "cell_type": "code",
   "execution_count": 17,
   "metadata": {},
   "outputs": [
    {
     "data": {
      "image/png": "[encoded data removed]",
      "text/plain": [
       "<Figure size 432x288 with 1 Axes>"
      ]
     },
     "metadata": {
      "needs_background": "light"
     },
     "output_type": "display_data"
    },
    {
     "data": {
      "application/javascript": [
       "\n",
       "            setTimeout(function() {\n",
       "                var nbb_cell_id = 17;\n",
       "                var nbb_unformatted_code = \"df.boxplot(\\n    by=\\\"diagnosis\\\", column=\\\"area_mean\\\")\\nplt.show()\";\n",
       "                var nbb_formatted_code = \"df.boxplot(by=\\\"diagnosis\\\", column=\\\"area_mean\\\")\\nplt.show()\";\n",
       "                var nbb_cells = Jupyter.notebook.get_cells();\n",
       "                for (var i = 0; i < nbb_cells.length; ++i) {\n",
       "                    if (nbb_cells[i].input_prompt_number == nbb_cell_id) {\n",
       "                        if (nbb_cells[i].get_text() == nbb_unformatted_code) {\n",
       "                             nbb_cells[i].set_text(nbb_formatted_code);\n",
       "                        }\n",
       "                        break;\n",
       "                    }\n",
       "                }\n",
       "            }, 500);\n",
       "            "
      ],
      "text/plain": [
       "<IPython.core.display.Javascript object>"
      ]
     },
     "metadata": {},
     "output_type": "display_data"
    }
   ],
   "source": [
    "df.boxplot(by=\"diagnosis\", column=\"area_mean\")\n",
    "plt.show()"
   ]
  },
  {
   "cell_type": "code",
   "execution_count": 31,
   "metadata": {},
   "outputs": [
    {
     "data": {
      "image/png": "[encoded data removed]",
      "text/plain": [
       "<Figure size 432x288 with 1 Axes>"
      ]
     },
     "metadata": {
      "needs_background": "light"
     },
     "output_type": "display_data"
    },
    {
     "data": {
      "application/javascript": [
       "\n",
       "            setTimeout(function() {\n",
       "                var nbb_cell_id = 31;\n",
       "                var nbb_unformatted_code = \"df.boxplot(by=\\\"diagnosis\\\", column=\\\"texture_mean\\\")\\nplt.show()\";\n",
       "                var nbb_formatted_code = \"df.boxplot(by=\\\"diagnosis\\\", column=\\\"texture_mean\\\")\\nplt.show()\";\n",
       "                var nbb_cells = Jupyter.notebook.get_cells();\n",
       "                for (var i = 0; i < nbb_cells.length; ++i) {\n",
       "                    if (nbb_cells[i].input_prompt_number == nbb_cell_id) {\n",
       "                        if (nbb_cells[i].get_text() == nbb_unformatted_code) {\n",
       "                             nbb_cells[i].set_text(nbb_formatted_code);\n",
       "                        }\n",
       "                        break;\n",
       "                    }\n",
       "                }\n",
       "            }, 500);\n",
       "            "
      ],
      "text/plain": [
       "<IPython.core.display.Javascript object>"
      ]
     },
     "metadata": {},
     "output_type": "display_data"
    }
   ],
   "source": [
    "df.boxplot(by=\"diagnosis\", column=\"texture_mean\")\n",
    "plt.show()"
   ]
  },
  {
   "cell_type": "code",
   "execution_count": 32,
   "metadata": {},
   "outputs": [
    {
     "data": {
      "image/png": "[encoded data removed]",
      "text/plain": [
       "<Figure size 432x288 with 1 Axes>"
      ]
     },
     "metadata": {
      "needs_background": "light"
     },
     "output_type": "display_data"
    },
    {
     "data": {
      "application/javascript": [
       "\n",
       "            setTimeout(function() {\n",
       "                var nbb_cell_id = 32;\n",
       "                var nbb_unformatted_code = \"df.boxplot(by=\\\"diagnosis\\\", column=\\\"concavity_mean\\\")\\nplt.show()\";\n",
       "                var nbb_formatted_code = \"df.boxplot(by=\\\"diagnosis\\\", column=\\\"concavity_mean\\\")\\nplt.show()\";\n",
       "                var nbb_cells = Jupyter.notebook.get_cells();\n",
       "                for (var i = 0; i < nbb_cells.length; ++i) {\n",
       "                    if (nbb_cells[i].input_prompt_number == nbb_cell_id) {\n",
       "                        if (nbb_cells[i].get_text() == nbb_unformatted_code) {\n",
       "                             nbb_cells[i].set_text(nbb_formatted_code);\n",
       "                        }\n",
       "                        break;\n",
       "                    }\n",
       "                }\n",
       "            }, 500);\n",
       "            "
      ],
      "text/plain": [
       "<IPython.core.display.Javascript object>"
      ]
     },
     "metadata": {},
     "output_type": "display_data"
    }
   ],
   "source": [
    "df.boxplot(by=\"diagnosis\", column=\"concavity_mean\")\n",
    "plt.show()"
   ]
  },
  {
   "cell_type": "code",
   "execution_count": 59,
   "metadata": {},
   "outputs": [
    {
     "data": {
      "application/javascript": [
       "\n",
       "            setTimeout(function() {\n",
       "                var nbb_cell_id = 59;\n",
       "                var nbb_unformatted_code = \"# sm.qqplot(malignant[\\\"area_mean\\\"], line=\\\"s\\\")\\n# sm.qqplot(malignant[\\\"texture_mean\\\"], line=\\\"s\\\")\\n# sm.qqplot(malignant[\\\"concavity_mean\\\"], line=\\\"s\\\")\\n# plt.show\";\n",
       "                var nbb_formatted_code = \"# sm.qqplot(malignant[\\\"area_mean\\\"], line=\\\"s\\\")\\n# sm.qqplot(malignant[\\\"texture_mean\\\"], line=\\\"s\\\")\\n# sm.qqplot(malignant[\\\"concavity_mean\\\"], line=\\\"s\\\")\\n# plt.show\";\n",
       "                var nbb_cells = Jupyter.notebook.get_cells();\n",
       "                for (var i = 0; i < nbb_cells.length; ++i) {\n",
       "                    if (nbb_cells[i].input_prompt_number == nbb_cell_id) {\n",
       "                        if (nbb_cells[i].get_text() == nbb_unformatted_code) {\n",
       "                             nbb_cells[i].set_text(nbb_formatted_code);\n",
       "                        }\n",
       "                        break;\n",
       "                    }\n",
       "                }\n",
       "            }, 500);\n",
       "            "
      ],
      "text/plain": [
       "<IPython.core.display.Javascript object>"
      ]
     },
     "metadata": {},
     "output_type": "display_data"
    }
   ],
   "source": [
    "# sm.qqplot(malignant[\"area_mean\"], line=\"s\")\n",
    "# sm.qqplot(malignant[\"texture_mean\"], line=\"s\")\n",
    "# sm.qqplot(malignant[\"concavity_mean\"], line=\"s\")\n",
    "# plt.show"
   ]
  },
  {
   "cell_type": "code",
   "execution_count": 58,
   "metadata": {},
   "outputs": [
    {
     "data": {
      "application/javascript": [
       "\n",
       "            setTimeout(function() {\n",
       "                var nbb_cell_id = 58;\n",
       "                var nbb_unformatted_code = \"# sm.qqplot(benign[\\\"area_mean\\\"], line=\\\"s\\\")\\n# sm.qqplot(benign[\\\"texture_mean\\\"], line=\\\"s\\\")\\n# sm.qqplot(benign[\\\"concavity_mean\\\"], line=\\\"s\\\")\\n# plt.show\";\n",
       "                var nbb_formatted_code = \"# sm.qqplot(benign[\\\"area_mean\\\"], line=\\\"s\\\")\\n# sm.qqplot(benign[\\\"texture_mean\\\"], line=\\\"s\\\")\\n# sm.qqplot(benign[\\\"concavity_mean\\\"], line=\\\"s\\\")\\n# plt.show\";\n",
       "                var nbb_cells = Jupyter.notebook.get_cells();\n",
       "                for (var i = 0; i < nbb_cells.length; ++i) {\n",
       "                    if (nbb_cells[i].input_prompt_number == nbb_cell_id) {\n",
       "                        if (nbb_cells[i].get_text() == nbb_unformatted_code) {\n",
       "                             nbb_cells[i].set_text(nbb_formatted_code);\n",
       "                        }\n",
       "                        break;\n",
       "                    }\n",
       "                }\n",
       "            }, 500);\n",
       "            "
      ],
      "text/plain": [
       "<IPython.core.display.Javascript object>"
      ]
     },
     "metadata": {},
     "output_type": "display_data"
    }
   ],
   "source": [
    "# sm.qqplot(benign[\"area_mean\"], line=\"s\")\n",
    "# sm.qqplot(benign[\"texture_mean\"], line=\"s\")\n",
    "# sm.qqplot(benign[\"concavity_mean\"], line=\"s\")\n",
    "# plt.show"
   ]
  },
  {
   "cell_type": "code",
   "execution_count": 57,
   "metadata": {},
   "outputs": [
    {
     "data": {
      "application/javascript": [
       "\n",
       "            setTimeout(function() {\n",
       "                var nbb_cell_id = 57;\n",
       "                var nbb_unformatted_code = \"# Confidence Interval\\n\\n\\ndef calc_95_ci(x1, x2):\\n    signal = x1.mean() - x2.mean()\\n    noise = np.sqrt(x1.std() ** 2 / x1.size + x2.std() ** 2 / x2.size)\\n\\n    ci_low = signal - 1.96 * noise\\n    ci_hi = signal + 1.96 * noise\\n\\n    return (ci_low, ci_hi)\";\n",
       "                var nbb_formatted_code = \"# Confidence Interval\\n\\n\\ndef calc_95_ci(x1, x2):\\n    signal = x1.mean() - x2.mean()\\n    noise = np.sqrt(x1.std() ** 2 / x1.size + x2.std() ** 2 / x2.size)\\n\\n    ci_low = signal - 1.96 * noise\\n    ci_hi = signal + 1.96 * noise\\n\\n    return (ci_low, ci_hi)\";\n",
       "                var nbb_cells = Jupyter.notebook.get_cells();\n",
       "                for (var i = 0; i < nbb_cells.length; ++i) {\n",
       "                    if (nbb_cells[i].input_prompt_number == nbb_cell_id) {\n",
       "                        if (nbb_cells[i].get_text() == nbb_unformatted_code) {\n",
       "                             nbb_cells[i].set_text(nbb_formatted_code);\n",
       "                        }\n",
       "                        break;\n",
       "                    }\n",
       "                }\n",
       "            }, 500);\n",
       "            "
      ],
      "text/plain": [
       "<IPython.core.display.Javascript object>"
      ]
     },
     "metadata": {},
     "output_type": "display_data"
    }
   ],
   "source": [
    "# Confidence Interval\n",
    "\n",
    "\n",
    "def calc_95_ci(x1, x2):\n",
    "    signal = x1.mean() - x2.mean()\n",
    "    noise = np.sqrt(x1.std() ** 2 / x1.size + x2.std() ** 2 / x2.size)\n",
    "\n",
    "    ci_low = signal - 1.96 * noise\n",
    "    ci_hi = signal + 1.96 * noise\n",
    "\n",
    "    return (ci_low, ci_hi)"
   ]
  },
  {
   "cell_type": "code",
   "execution_count": 60,
   "metadata": {},
   "outputs": [
    {
     "data": {
      "text/plain": [
       "(464.1351984332775, 567.0372395985389)"
      ]
     },
     "execution_count": 60,
     "metadata": {},
     "output_type": "execute_result"
    },
    {
     "data": {
      "application/javascript": [
       "\n",
       "            setTimeout(function() {\n",
       "                var nbb_cell_id = 60;\n",
       "                var nbb_unformatted_code = \"calc_95_ci(malignant[\\\"area_mean\\\"], benign[\\\"area_mean\\\"])\";\n",
       "                var nbb_formatted_code = \"calc_95_ci(malignant[\\\"area_mean\\\"], benign[\\\"area_mean\\\"])\";\n",
       "                var nbb_cells = Jupyter.notebook.get_cells();\n",
       "                for (var i = 0; i < nbb_cells.length; ++i) {\n",
       "                    if (nbb_cells[i].input_prompt_number == nbb_cell_id) {\n",
       "                        if (nbb_cells[i].get_text() == nbb_unformatted_code) {\n",
       "                             nbb_cells[i].set_text(nbb_formatted_code);\n",
       "                        }\n",
       "                        break;\n",
       "                    }\n",
       "                }\n",
       "            }, 500);\n",
       "            "
      ],
      "text/plain": [
       "<IPython.core.display.Javascript object>"
      ]
     },
     "metadata": {},
     "output_type": "display_data"
    }
   ],
   "source": [
    "calc_95_ci(malignant[\"area_mean\"], benign[\"area_mean\"])"
   ]
  },
  {
   "cell_type": "code",
   "execution_count": 61,
   "metadata": {},
   "outputs": [
    {
     "data": {
      "text/plain": [
       "(3.0339447927021377, 4.34634271852878)"
      ]
     },
     "execution_count": 61,
     "metadata": {},
     "output_type": "execute_result"
    },
    {
     "data": {
      "application/javascript": [
       "\n",
       "            setTimeout(function() {\n",
       "                var nbb_cell_id = 61;\n",
       "                var nbb_unformatted_code = \"calc_95_ci(malignant[\\\"texture_mean\\\"], benign[\\\"texture_mean\\\"])\";\n",
       "                var nbb_formatted_code = \"calc_95_ci(malignant[\\\"texture_mean\\\"], benign[\\\"texture_mean\\\"])\";\n",
       "                var nbb_cells = Jupyter.notebook.get_cells();\n",
       "                for (var i = 0; i < nbb_cells.length; ++i) {\n",
       "                    if (nbb_cells[i].input_prompt_number == nbb_cell_id) {\n",
       "                        if (nbb_cells[i].get_text() == nbb_unformatted_code) {\n",
       "                             nbb_cells[i].set_text(nbb_formatted_code);\n",
       "                        }\n",
       "                        break;\n",
       "                    }\n",
       "                }\n",
       "            }, 500);\n",
       "            "
      ],
      "text/plain": [
       "<IPython.core.display.Javascript object>"
      ]
     },
     "metadata": {},
     "output_type": "display_data"
    }
   ],
   "source": [
    "calc_95_ci(malignant[\"texture_mean\"], benign[\"texture_mean\"])"
   ]
  },
  {
   "cell_type": "code",
   "execution_count": 62,
   "metadata": {},
   "outputs": [
    {
     "data": {
      "text/plain": [
       "(0.10365862591783591, 0.12577556602762158)"
      ]
     },
     "execution_count": 62,
     "metadata": {},
     "output_type": "execute_result"
    },
    {
     "data": {
      "application/javascript": [
       "\n",
       "            setTimeout(function() {\n",
       "                var nbb_cell_id = 62;\n",
       "                var nbb_unformatted_code = \"calc_95_ci(malignant[\\\"concavity_mean\\\"], benign[\\\"concavity_mean\\\"])\";\n",
       "                var nbb_formatted_code = \"calc_95_ci(malignant[\\\"concavity_mean\\\"], benign[\\\"concavity_mean\\\"])\";\n",
       "                var nbb_cells = Jupyter.notebook.get_cells();\n",
       "                for (var i = 0; i < nbb_cells.length; ++i) {\n",
       "                    if (nbb_cells[i].input_prompt_number == nbb_cell_id) {\n",
       "                        if (nbb_cells[i].get_text() == nbb_unformatted_code) {\n",
       "                             nbb_cells[i].set_text(nbb_formatted_code);\n",
       "                        }\n",
       "                        break;\n",
       "                    }\n",
       "                }\n",
       "            }, 500);\n",
       "            "
      ],
      "text/plain": [
       "<IPython.core.display.Javascript object>"
      ]
     },
     "metadata": {},
     "output_type": "display_data"
    }
   ],
   "source": [
    "calc_95_ci(malignant[\"concavity_mean\"], benign[\"concavity_mean\"])"
   ]
  },
  {
   "cell_type": "markdown",
   "metadata": {
    "colab_type": "text",
    "id": "Inylwf3FpZ90"
   },
   "source": [
    "### Exercise 2\n",
    "\n",
    "For the following test we will use the Real GDP per capita dataset for Europe available by Eurostat from the following address https://ec.europa.eu/eurostat/web/products-datasets/-/sdg_08_10\n",
    "It contains the GDP per capita for each country (The indicator is calculated as the ratio of real GDP to the average population of a specific year.)\n",
    "We will use the years 2007, 2008 and 2009 to check if the economic crisis of 2008 affected the GDP values of europe.\n",
    "\n",
    "Dataset:\n",
    "- https://ec.europa.eu/eurostat/web/products-datasets/-/sdg_08_10\n",
    "\n",
    "\n",
    "Questions:\n",
    "\n",
    "Is there a difference in the GDP per capita between the years (2007 and 2008), (2008 and 2009)?\n",
    "- Select and apply the appropriate statistical test.\n"
   ]
  },
  {
   "cell_type": "markdown",
   "metadata": {
    "colab_type": "text",
    "id": "0upRAUv8pZ91"
   },
   "source": [
    "Our dataset needs some cleaning at first. We extract only the columns of interest, clean numeric columns of unwanted characters and convert these columns to numeric.\n",
    "We also remove rows that refer to collective index for many countries (\"EA19\", \"EU27\",\"EU28\") and keep individual countries."
   ]
  },
  {
   "cell_type": "code",
   "execution_count": 38,
   "metadata": {
    "colab": {},
    "colab_type": "code",
    "id": "l5rZdCUypZ95",
    "outputId": "c0c2c278-dcdb-476e-87fa-3375dc186f99"
   },
   "outputs": [
    {
     "data": {
      "text/html": [
       "<div>\n",
       "<style scoped>\n",
       "    .dataframe tbody tr th:only-of-type {\n",
       "        vertical-align: middle;\n",
       "    }\n",
       "\n",
       "    .dataframe tbody tr th {\n",
       "        vertical-align: top;\n",
       "    }\n",
       "\n",
       "    .dataframe thead th {\n",
       "        text-align: right;\n",
       "    }\n",
       "</style>\n",
       "<table border=\"1\" class=\"dataframe\">\n",
       "  <thead>\n",
       "    <tr style=\"text-align: right;\">\n",
       "      <th></th>\n",
       "      <th>country</th>\n",
       "      <th>2007</th>\n",
       "      <th>2008</th>\n",
       "      <th>2009</th>\n",
       "    </tr>\n",
       "  </thead>\n",
       "  <tbody>\n",
       "    <tr>\n",
       "      <th>0</th>\n",
       "      <td>AT</td>\n",
       "      <td>35870</td>\n",
       "      <td>36280</td>\n",
       "      <td>34830</td>\n",
       "    </tr>\n",
       "    <tr>\n",
       "      <th>1</th>\n",
       "      <td>BE</td>\n",
       "      <td>33760</td>\n",
       "      <td>33640</td>\n",
       "      <td>32700</td>\n",
       "    </tr>\n",
       "    <tr>\n",
       "      <th>2</th>\n",
       "      <td>BG</td>\n",
       "      <td>4820</td>\n",
       "      <td>5140</td>\n",
       "      <td>4990</td>\n",
       "    </tr>\n",
       "    <tr>\n",
       "      <th>3</th>\n",
       "      <td>CH</td>\n",
       "      <td>57720</td>\n",
       "      <td>58620</td>\n",
       "      <td>56750</td>\n",
       "    </tr>\n",
       "    <tr>\n",
       "      <th>4</th>\n",
       "      <td>CY</td>\n",
       "      <td>24420</td>\n",
       "      <td>24680</td>\n",
       "      <td>23550</td>\n",
       "    </tr>\n",
       "  </tbody>\n",
       "</table>\n",
       "</div>"
      ],
      "text/plain": [
       "  country   2007   2008   2009\n",
       "0      AT  35870  36280  34830\n",
       "1      BE  33760  33640  32700\n",
       "2      BG   4820   5140   4990\n",
       "3      CH  57720  58620  56750\n",
       "4      CY  24420  24680  23550"
      ]
     },
     "execution_count": 38,
     "metadata": {},
     "output_type": "execute_result"
    },
    {
     "data": {
      "application/javascript": [
       "\n",
       "            setTimeout(function() {\n",
       "                var nbb_cell_id = 38;\n",
       "                var nbb_unformatted_code = \"gdp = pd.read_csv(\\n    \\\"https://ec.europa.eu/eurostat/estat-navtree-portlet-prod/BulkDownloadListing?file=data/sdg_08_10.tsv.gz\\\",\\n    compression=\\\"gzip\\\",\\n    sep=r\\\"\\\\,|\\\\t\\\",\\n    usecols=[\\\"unit\\\", \\\"geo\\\\\\\\time\\\", \\\"2007 \\\", \\\"2008 \\\", \\\"2009 \\\"],\\n    engine=\\\"python\\\",\\n)\\ngdp = gdp[gdp.unit == \\\"CLV10_EUR_HAB\\\"].drop([\\\"unit\\\"], axis=1)\\ngdp.columns = [\\\"country\\\", \\\"2007\\\", \\\"2008\\\", \\\"2009\\\"]\\ngdp = gdp[~gdp.country.isin([\\\"EA19\\\", \\\"EU27\\\", \\\"EU28\\\"])]\\ngdp[\\\"2007\\\"] = gdp[\\\"2007\\\"].str.extract(\\\"(\\\\d+)\\\", expand=False).astype(int)\\ngdp[\\\"2008\\\"] = gdp[\\\"2008\\\"].str.extract(\\\"(\\\\d+)\\\", expand=False).astype(int)\\ngdp[\\\"2009\\\"] = gdp[\\\"2009\\\"].str.extract(\\\"(\\\\d+)\\\", expand=False).astype(int)\\ngdp.head()\";\n",
       "                var nbb_formatted_code = \"gdp = pd.read_csv(\\n    \\\"https://ec.europa.eu/eurostat/estat-navtree-portlet-prod/BulkDownloadListing?file=data/sdg_08_10.tsv.gz\\\",\\n    compression=\\\"gzip\\\",\\n    sep=r\\\"\\\\,|\\\\t\\\",\\n    usecols=[\\\"unit\\\", \\\"geo\\\\\\\\time\\\", \\\"2007 \\\", \\\"2008 \\\", \\\"2009 \\\"],\\n    engine=\\\"python\\\",\\n)\\ngdp = gdp[gdp.unit == \\\"CLV10_EUR_HAB\\\"].drop([\\\"unit\\\"], axis=1)\\ngdp.columns = [\\\"country\\\", \\\"2007\\\", \\\"2008\\\", \\\"2009\\\"]\\ngdp = gdp[~gdp.country.isin([\\\"EA19\\\", \\\"EU27\\\", \\\"EU28\\\"])]\\ngdp[\\\"2007\\\"] = gdp[\\\"2007\\\"].str.extract(\\\"(\\\\d+)\\\", expand=False).astype(int)\\ngdp[\\\"2008\\\"] = gdp[\\\"2008\\\"].str.extract(\\\"(\\\\d+)\\\", expand=False).astype(int)\\ngdp[\\\"2009\\\"] = gdp[\\\"2009\\\"].str.extract(\\\"(\\\\d+)\\\", expand=False).astype(int)\\ngdp.head()\";\n",
       "                var nbb_cells = Jupyter.notebook.get_cells();\n",
       "                for (var i = 0; i < nbb_cells.length; ++i) {\n",
       "                    if (nbb_cells[i].input_prompt_number == nbb_cell_id) {\n",
       "                        if (nbb_cells[i].get_text() == nbb_unformatted_code) {\n",
       "                             nbb_cells[i].set_text(nbb_formatted_code);\n",
       "                        }\n",
       "                        break;\n",
       "                    }\n",
       "                }\n",
       "            }, 500);\n",
       "            "
      ],
      "text/plain": [
       "<IPython.core.display.Javascript object>"
      ]
     },
     "metadata": {},
     "output_type": "display_data"
    }
   ],
   "source": [
    "gdp = pd.read_csv(\n",
    "    \"https://ec.europa.eu/eurostat/estat-navtree-portlet-prod/BulkDownloadListing?file=data/sdg_08_10.tsv.gz\",\n",
    "    compression=\"gzip\",\n",
    "    sep=r\"\\,|\\t\",\n",
    "    usecols=[\"unit\", \"geo\\\\time\", \"2007 \", \"2008 \", \"2009 \"],\n",
    "    engine=\"python\",\n",
    ")\n",
    "gdp = gdp[gdp.unit == \"CLV10_EUR_HAB\"].drop([\"unit\"], axis=1)\n",
    "gdp.columns = [\"country\", \"2007\", \"2008\", \"2009\"]\n",
    "gdp = gdp[~gdp.country.isin([\"EA19\", \"EU27\", \"EU28\"])]\n",
    "gdp[\"2007\"] = gdp[\"2007\"].str.extract(\"(\\d+)\", expand=False).astype(int)\n",
    "gdp[\"2008\"] = gdp[\"2008\"].str.extract(\"(\\d+)\", expand=False).astype(int)\n",
    "gdp[\"2009\"] = gdp[\"2009\"].str.extract(\"(\\d+)\", expand=False).astype(int)\n",
    "gdp.head()"
   ]
  },
  {
   "cell_type": "code",
   "execution_count": 39,
   "metadata": {},
   "outputs": [
    {
     "name": "stdout",
     "output_type": "stream",
     "text": [
      "<class 'pandas.core.frame.DataFrame'>\n",
      "Int64Index: 36 entries, 0 to 37\n",
      "Data columns (total 4 columns):\n",
      " #   Column   Non-Null Count  Dtype \n",
      "---  ------   --------------  ----- \n",
      " 0   country  36 non-null     object\n",
      " 1   2007     36 non-null     int64 \n",
      " 2   2008     36 non-null     int64 \n",
      " 3   2009     36 non-null     int64 \n",
      "dtypes: int64(3), object(1)\n",
      "memory usage: 1.4+ KB\n"
     ]
    },
    {
     "data": {
      "application/javascript": [
       "\n",
       "            setTimeout(function() {\n",
       "                var nbb_cell_id = 39;\n",
       "                var nbb_unformatted_code = \"gdp.info()\";\n",
       "                var nbb_formatted_code = \"gdp.info()\";\n",
       "                var nbb_cells = Jupyter.notebook.get_cells();\n",
       "                for (var i = 0; i < nbb_cells.length; ++i) {\n",
       "                    if (nbb_cells[i].input_prompt_number == nbb_cell_id) {\n",
       "                        if (nbb_cells[i].get_text() == nbb_unformatted_code) {\n",
       "                             nbb_cells[i].set_text(nbb_formatted_code);\n",
       "                        }\n",
       "                        break;\n",
       "                    }\n",
       "                }\n",
       "            }, 500);\n",
       "            "
      ],
      "text/plain": [
       "<IPython.core.display.Javascript object>"
      ]
     },
     "metadata": {},
     "output_type": "display_data"
    }
   ],
   "source": [
    "gdp.info()"
   ]
  },
  {
   "cell_type": "code",
   "execution_count": 40,
   "metadata": {
    "colab": {},
    "colab_type": "code",
    "id": "Ico5D7xopZ-C",
    "outputId": "20d3d8dc-47e4-49b2-dbea-934ae0ab9293"
   },
   "outputs": [
    {
     "data": {
      "text/html": [
       "<div>\n",
       "<style scoped>\n",
       "    .dataframe tbody tr th:only-of-type {\n",
       "        vertical-align: middle;\n",
       "    }\n",
       "\n",
       "    .dataframe tbody tr th {\n",
       "        vertical-align: top;\n",
       "    }\n",
       "\n",
       "    .dataframe thead th {\n",
       "        text-align: right;\n",
       "    }\n",
       "</style>\n",
       "<table border=\"1\" class=\"dataframe\">\n",
       "  <thead>\n",
       "    <tr style=\"text-align: right;\">\n",
       "      <th></th>\n",
       "      <th>2007</th>\n",
       "      <th>2008</th>\n",
       "      <th>2009</th>\n",
       "    </tr>\n",
       "  </thead>\n",
       "  <tbody>\n",
       "    <tr>\n",
       "      <th>count</th>\n",
       "      <td>36.000000</td>\n",
       "      <td>36.000000</td>\n",
       "      <td>36.000000</td>\n",
       "    </tr>\n",
       "    <tr>\n",
       "      <th>mean</th>\n",
       "      <td>25407.222222</td>\n",
       "      <td>25365.000000</td>\n",
       "      <td>24060.833333</td>\n",
       "    </tr>\n",
       "    <tr>\n",
       "      <th>std</th>\n",
       "      <td>18827.493970</td>\n",
       "      <td>18451.582123</td>\n",
       "      <td>17629.764989</td>\n",
       "    </tr>\n",
       "    <tr>\n",
       "      <th>min</th>\n",
       "      <td>3200.000000</td>\n",
       "      <td>3370.000000</td>\n",
       "      <td>3350.000000</td>\n",
       "    </tr>\n",
       "    <tr>\n",
       "      <th>25%</th>\n",
       "      <td>10355.000000</td>\n",
       "      <td>10415.000000</td>\n",
       "      <td>9632.500000</td>\n",
       "    </tr>\n",
       "    <tr>\n",
       "      <th>50%</th>\n",
       "      <td>23440.000000</td>\n",
       "      <td>23285.000000</td>\n",
       "      <td>22225.000000</td>\n",
       "    </tr>\n",
       "    <tr>\n",
       "      <th>75%</th>\n",
       "      <td>35937.500000</td>\n",
       "      <td>36025.000000</td>\n",
       "      <td>33677.500000</td>\n",
       "    </tr>\n",
       "    <tr>\n",
       "      <th>max</th>\n",
       "      <td>84420.000000</td>\n",
       "      <td>81880.000000</td>\n",
       "      <td>76900.000000</td>\n",
       "    </tr>\n",
       "  </tbody>\n",
       "</table>\n",
       "</div>"
      ],
      "text/plain": [
       "               2007          2008          2009\n",
       "count     36.000000     36.000000     36.000000\n",
       "mean   25407.222222  25365.000000  24060.833333\n",
       "std    18827.493970  18451.582123  17629.764989\n",
       "min     3200.000000   3370.000000   3350.000000\n",
       "25%    10355.000000  10415.000000   9632.500000\n",
       "50%    23440.000000  23285.000000  22225.000000\n",
       "75%    35937.500000  36025.000000  33677.500000\n",
       "max    84420.000000  81880.000000  76900.000000"
      ]
     },
     "execution_count": 40,
     "metadata": {},
     "output_type": "execute_result"
    },
    {
     "data": {
      "application/javascript": [
       "\n",
       "            setTimeout(function() {\n",
       "                var nbb_cell_id = 40;\n",
       "                var nbb_unformatted_code = \"gdp.describe()\";\n",
       "                var nbb_formatted_code = \"gdp.describe()\";\n",
       "                var nbb_cells = Jupyter.notebook.get_cells();\n",
       "                for (var i = 0; i < nbb_cells.length; ++i) {\n",
       "                    if (nbb_cells[i].input_prompt_number == nbb_cell_id) {\n",
       "                        if (nbb_cells[i].get_text() == nbb_unformatted_code) {\n",
       "                             nbb_cells[i].set_text(nbb_formatted_code);\n",
       "                        }\n",
       "                        break;\n",
       "                    }\n",
       "                }\n",
       "            }, 500);\n",
       "            "
      ],
      "text/plain": [
       "<IPython.core.display.Javascript object>"
      ]
     },
     "metadata": {},
     "output_type": "display_data"
    }
   ],
   "source": [
    "gdp.describe()"
   ]
  },
  {
   "cell_type": "markdown",
   "metadata": {
    "colab_type": "text",
    "id": "J2UF2nhupZ-I"
   },
   "source": [
    "Data that refer to economic indices usually do not follow a normal distribution, something we can easily observe by visualizing the data below, hence we should use non parametric tests."
   ]
  },
  {
   "cell_type": "code",
   "execution_count": 64,
   "metadata": {
    "colab": {},
    "colab_type": "code",
    "id": "g1POB8XKpZ-J"
   },
   "outputs": [
    {
     "data": {
      "image/png": "[encoded data removed]",
      "text/plain": [
       "<Figure size 432x288 with 1 Axes>"
      ]
     },
     "metadata": {
      "needs_background": "light"
     },
     "output_type": "display_data"
    },
    {
     "data": {
      "image/png": "[encoded data removed]",
      "text/plain": [
       "<Figure size 432x288 with 1 Axes>"
      ]
     },
     "metadata": {
      "needs_background": "light"
     },
     "output_type": "display_data"
    },
    {
     "data": {
      "image/png": "[encoded data removed]",
      "text/plain": [
       "<Figure size 432x288 with 1 Axes>"
      ]
     },
     "metadata": {
      "needs_background": "light"
     },
     "output_type": "display_data"
    },
    {
     "data": {
      "application/javascript": [
       "\n",
       "            setTimeout(function() {\n",
       "                var nbb_cell_id = 64;\n",
       "                var nbb_unformatted_code = \"# Plot the histogram for the values of each year.\\nplt.hist(gdp[\\\"2007\\\"])\\nplt.show()\\nplt.hist(gdp[\\\"2008\\\"])\\nplt.show()\\nplt.hist(gdp[\\\"2009\\\"])\\nplt.title\\nplt.show()\\n\\n# plt.hist(gdp[\\\"2007\\\"], alpha = 0.5)\\n# plt.hist(gdp[\\\"2008\\\"], alpha = 0.3)\\n# plt.hist(gdp[\\\"2009\\\"], alpha = 0.1)\\n# plt.show()\";\n",
       "                var nbb_formatted_code = \"# Plot the histogram for the values of each year.\\nplt.hist(gdp[\\\"2007\\\"])\\nplt.show()\\nplt.hist(gdp[\\\"2008\\\"])\\nplt.show()\\nplt.hist(gdp[\\\"2009\\\"])\\nplt.title\\nplt.show()\\n\\n# plt.hist(gdp[\\\"2007\\\"], alpha = 0.5)\\n# plt.hist(gdp[\\\"2008\\\"], alpha = 0.3)\\n# plt.hist(gdp[\\\"2009\\\"], alpha = 0.1)\\n# plt.show()\";\n",
       "                var nbb_cells = Jupyter.notebook.get_cells();\n",
       "                for (var i = 0; i < nbb_cells.length; ++i) {\n",
       "                    if (nbb_cells[i].input_prompt_number == nbb_cell_id) {\n",
       "                        if (nbb_cells[i].get_text() == nbb_unformatted_code) {\n",
       "                             nbb_cells[i].set_text(nbb_formatted_code);\n",
       "                        }\n",
       "                        break;\n",
       "                    }\n",
       "                }\n",
       "            }, 500);\n",
       "            "
      ],
      "text/plain": [
       "<IPython.core.display.Javascript object>"
      ]
     },
     "metadata": {},
     "output_type": "display_data"
    }
   ],
   "source": [
    "# Plot the histogram for the values of each year.\n",
    "plt.hist(gdp[\"2007\"])\n",
    "plt.show()\n",
    "plt.hist(gdp[\"2008\"])\n",
    "plt.show()\n",
    "plt.hist(gdp[\"2009\"])\n",
    "plt.show()\n",
    "\n",
    "# plt.hist(gdp[\"2007\"], alpha = 0.5)\n",
    "# plt.hist(gdp[\"2008\"], alpha = 0.3)\n",
    "# plt.hist(gdp[\"2009\"], alpha = 0.1)\n",
    "# plt.show()\n"
   ]
  },
  {
   "cell_type": "markdown",
   "metadata": {
    "colab_type": "text",
    "id": "dKkvGqUspZ-U"
   },
   "source": [
    "We will run a Wilcoxon Signed-rank Test, which should be run on paired samples or repeated measurements on a single sample. In our case we have repeated measurements (three years) of GDP for the same countries."
   ]
  },
  {
   "cell_type": "markdown",
   "metadata": {
    "colab_type": "text",
    "id": "Geu7s-ubpZ-U"
   },
   "source": [
    "The null hypothesis for this test is that the medians of two samples are equal.\n",
    "First we compare 2007 with 2008 values:"
   ]
  },
  {
   "cell_type": "code",
   "execution_count": 52,
   "metadata": {
    "colab": {},
    "colab_type": "code",
    "id": "EExsdc-KpZ-V"
   },
   "outputs": [
    {
     "data": {
      "text/plain": [
       "WilcoxonResult(statistic=278.5, pvalue=0.39180684742166216)"
      ]
     },
     "execution_count": 52,
     "metadata": {},
     "output_type": "execute_result"
    },
    {
     "data": {
      "application/javascript": [
       "\n",
       "            setTimeout(function() {\n",
       "                var nbb_cell_id = 52;\n",
       "                var nbb_unformatted_code = \"# Run a Wilcoxon Signed-rank test for years (groups) 2007 and 2008 and describe the results of the test. \\nstats.wilcoxon(gdp[\\\"2007\\\"], gdp[\\\"2008\\\"])\";\n",
       "                var nbb_formatted_code = \"# Run a Wilcoxon Signed-rank test for years (groups) 2007 and 2008 and describe the results of the test.\\nstats.wilcoxon(gdp[\\\"2007\\\"], gdp[\\\"2008\\\"])\";\n",
       "                var nbb_cells = Jupyter.notebook.get_cells();\n",
       "                for (var i = 0; i < nbb_cells.length; ++i) {\n",
       "                    if (nbb_cells[i].input_prompt_number == nbb_cell_id) {\n",
       "                        if (nbb_cells[i].get_text() == nbb_unformatted_code) {\n",
       "                             nbb_cells[i].set_text(nbb_formatted_code);\n",
       "                        }\n",
       "                        break;\n",
       "                    }\n",
       "                }\n",
       "            }, 500);\n",
       "            "
      ],
      "text/plain": [
       "<IPython.core.display.Javascript object>"
      ]
     },
     "metadata": {},
     "output_type": "display_data"
    }
   ],
   "source": [
    "# Run a Wilcoxon Signed-rank test for years (groups) 2007 and 2008 and describe the results of the test.\n",
    "stats.wilcoxon(gdp[\"2007\"], gdp[\"2008\"])"
   ]
  },
  {
   "cell_type": "code",
   "execution_count": 51,
   "metadata": {
    "colab": {},
    "colab_type": "code",
    "id": "FMOql4vZpZ-b"
   },
   "outputs": [
    {
     "data": {
      "text/plain": [
       "WilcoxonResult(statistic=4.0, pvalue=2.356281382362627e-07)"
      ]
     },
     "execution_count": 51,
     "metadata": {},
     "output_type": "execute_result"
    },
    {
     "data": {
      "application/javascript": [
       "\n",
       "            setTimeout(function() {\n",
       "                var nbb_cell_id = 51;\n",
       "                var nbb_unformatted_code = \"# Run a Wilcoxon Signed-rank Test for years (groups) 2008 and 2009 and describe the results of the test. \\nstats.wilcoxon(gdp[\\\"2008\\\"], gdp[\\\"2009\\\"])\";\n",
       "                var nbb_formatted_code = \"# Run a Wilcoxon Signed-rank Test for years (groups) 2008 and 2009 and describe the results of the test.\\nstats.wilcoxon(gdp[\\\"2008\\\"], gdp[\\\"2009\\\"])\";\n",
       "                var nbb_cells = Jupyter.notebook.get_cells();\n",
       "                for (var i = 0; i < nbb_cells.length; ++i) {\n",
       "                    if (nbb_cells[i].input_prompt_number == nbb_cell_id) {\n",
       "                        if (nbb_cells[i].get_text() == nbb_unformatted_code) {\n",
       "                             nbb_cells[i].set_text(nbb_formatted_code);\n",
       "                        }\n",
       "                        break;\n",
       "                    }\n",
       "                }\n",
       "            }, 500);\n",
       "            "
      ],
      "text/plain": [
       "<IPython.core.display.Javascript object>"
      ]
     },
     "metadata": {},
     "output_type": "display_data"
    }
   ],
   "source": [
    "# Run a Wilcoxon Signed-rank Test for years (groups) 2008 and 2009 and describe the results of the test.\n",
    "stats.wilcoxon(gdp[\"2008\"], gdp[\"2009\"])"
   ]
  },
  {
   "cell_type": "markdown",
   "metadata": {},
   "source": [
    "There is a significant statistical difference between the means for 2008 2009 indicators which translate that the economic crisis of 2008 did affect the GDP values of Europe for 2009."
   ]
  },
  {
   "cell_type": "code",
   "execution_count": 55,
   "metadata": {},
   "outputs": [
    {
     "data": {
      "application/javascript": [
       "\n",
       "            setTimeout(function() {\n",
       "                var nbb_cell_id = 55;\n",
       "                var nbb_unformatted_code = \"#Confidence Interval\\n\\ndef calc_95_ci(x1, x2):\\n    signal = x1.mean() - x2.mean()\\n    noise = np.sqrt(x1.std() ** 2 / x1.size + x2.std() ** 2 / x2.size)\\n\\n    ci_low = signal - 1.96 * noise\\n    ci_hi = signal + 1.96 * noise\\n\\n    return (ci_low, ci_hi)\";\n",
       "                var nbb_formatted_code = \"# Confidence Interval\\n\\n\\ndef calc_95_ci(x1, x2):\\n    signal = x1.mean() - x2.mean()\\n    noise = np.sqrt(x1.std() ** 2 / x1.size + x2.std() ** 2 / x2.size)\\n\\n    ci_low = signal - 1.96 * noise\\n    ci_hi = signal + 1.96 * noise\\n\\n    return (ci_low, ci_hi)\";\n",
       "                var nbb_cells = Jupyter.notebook.get_cells();\n",
       "                for (var i = 0; i < nbb_cells.length; ++i) {\n",
       "                    if (nbb_cells[i].input_prompt_number == nbb_cell_id) {\n",
       "                        if (nbb_cells[i].get_text() == nbb_unformatted_code) {\n",
       "                             nbb_cells[i].set_text(nbb_formatted_code);\n",
       "                        }\n",
       "                        break;\n",
       "                    }\n",
       "                }\n",
       "            }, 500);\n",
       "            "
      ],
      "text/plain": [
       "<IPython.core.display.Javascript object>"
      ]
     },
     "metadata": {},
     "output_type": "display_data"
    }
   ],
   "source": [
    "# Confidence Interval\n",
    "\n",
    "\n",
    "def calc_95_ci(x1, x2):\n",
    "    signal = x1.mean() - x2.mean()\n",
    "    noise = np.sqrt(x1.std() ** 2 / x1.size + x2.std() ** 2 / x2.size)\n",
    "\n",
    "    ci_low = signal - 1.96 * noise\n",
    "    ci_hi = signal + 1.96 * noise\n",
    "\n",
    "    return (ci_low, ci_hi)"
   ]
  },
  {
   "cell_type": "code",
   "execution_count": 56,
   "metadata": {},
   "outputs": [
    {
     "data": {
      "text/plain": [
       "(-7032.360883618683, 9640.694216952019)"
      ]
     },
     "execution_count": 56,
     "metadata": {},
     "output_type": "execute_result"
    },
    {
     "data": {
      "application/javascript": [
       "\n",
       "            setTimeout(function() {\n",
       "                var nbb_cell_id = 56;\n",
       "                var nbb_unformatted_code = \"calc_95_ci(gdp[\\\"2008\\\"], gdp[\\\"2009\\\"])\";\n",
       "                var nbb_formatted_code = \"calc_95_ci(gdp[\\\"2008\\\"], gdp[\\\"2009\\\"])\";\n",
       "                var nbb_cells = Jupyter.notebook.get_cells();\n",
       "                for (var i = 0; i < nbb_cells.length; ++i) {\n",
       "                    if (nbb_cells[i].input_prompt_number == nbb_cell_id) {\n",
       "                        if (nbb_cells[i].get_text() == nbb_unformatted_code) {\n",
       "                             nbb_cells[i].set_text(nbb_formatted_code);\n",
       "                        }\n",
       "                        break;\n",
       "                    }\n",
       "                }\n",
       "            }, 500);\n",
       "            "
      ],
      "text/plain": [
       "<IPython.core.display.Javascript object>"
      ]
     },
     "metadata": {},
     "output_type": "display_data"
    }
   ],
   "source": [
    "calc_95_ci(gdp[\"2008\"], gdp[\"2009\"])"
   ]
  },
  {
   "cell_type": "code",
   "execution_count": null,
   "metadata": {},
   "outputs": [],
   "source": []
  }
 ],
 "metadata": {
  "colab": {
   "name": "13_02_nonparametric_tests_assign.ipynb",
   "provenance": []
  },
  "kernelspec": {
   "display_name": "Python 3",
   "language": "python",
   "name": "python3"
  },
  "language_info": {
   "codemirror_mode": {
    "name": "ipython",
    "version": 3
   },
   "file_extension": ".py",
   "mimetype": "text/x-python",
   "name": "python",
   "nbconvert_exporter": "python",
   "pygments_lexer": "ipython3",
   "version": "3.7.7"
  }
 },
 "nbformat": 4,
 "nbformat_minor": 1
}
